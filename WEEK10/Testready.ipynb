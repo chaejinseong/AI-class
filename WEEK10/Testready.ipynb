{
 "cells": [
  {
   "cell_type": "code",
   "execution_count": 1,
   "id": "6208f018",
   "metadata": {},
   "outputs": [
    {
     "name": "stdout",
     "output_type": "stream",
     "text": [
      "   age     sex     bmi  children smoker     region      charges\n",
      "0   19  female  27.900         0    yes  southwest  16884.92400\n",
      "1   18    male  33.770         1     no  southeast   1725.55230\n",
      "2   28    male  33.000         3     no  southeast   4449.46200\n",
      "3   33    male  22.705         0     no  northwest  21984.47061\n",
      "4   32    male  28.880         0     no  northwest   3866.85520\n"
     ]
    }
   ],
   "source": [
    "#데이터 불러오기\n",
    "import pandas as pd\n",
    "\n",
    "url = \"https://raw.githubusercontent.com/stedy/Machine-Learning-with-R-datasets/master/insurance.csv\"\n",
    "df = pd.read_csv(url)\n",
    "print(df.head())"
   ]
  },
  {
   "cell_type": "code",
   "execution_count": 2,
   "id": "5b2f6e5f",
   "metadata": {},
   "outputs": [
    {
     "name": "stdout",
     "output_type": "stream",
     "text": [
      "age         0\n",
      "sex         0\n",
      "bmi         0\n",
      "children    0\n",
      "smoker      0\n",
      "region      0\n",
      "charges     0\n",
      "dtype: int64\n"
     ]
    }
   ],
   "source": [
    "#결측치 처리\n",
    "print(df.isnull().sum())"
   ]
  },
  {
   "cell_type": "code",
   "execution_count": 3,
   "id": "9c35d034",
   "metadata": {},
   "outputs": [],
   "source": [
    "#엔코딩\n",
    "from sklearn.preprocessing import LabelEncoder\n",
    "\n",
    "le = LabelEncoder()\n",
    "\n",
    "df['sex'] = le.fit_transform(df['sex'])       # female=0, male=1\n",
    "df['smoker'] = le.fit_transform(df['smoker'])  # no=0, yes=1\n",
    "df['region'] = le.fit_transform(df['region'])  # northeast=0, northwest=1, southeast=2, southwest=3"
   ]
  },
  {
   "cell_type": "code",
   "execution_count": 4,
   "id": "de95582f",
   "metadata": {},
   "outputs": [
    {
     "name": "stdout",
     "output_type": "stream",
     "text": [
      "   age  sex     bmi  children  smoker  region      charges\n",
      "0   19    0  27.900         0       1       3  16884.92400\n",
      "1   18    1  33.770         1       0       2   1725.55230\n",
      "2   28    1  33.000         3       0       2   4449.46200\n",
      "3   33    1  22.705         0       0       1  21984.47061\n",
      "4   32    1  28.880         0       0       1   3866.85520\n"
     ]
    }
   ],
   "source": [
    "print(df.head())"
   ]
  },
  {
   "cell_type": "code",
   "execution_count": 5,
   "id": "2d546b83",
   "metadata": {},
   "outputs": [
    {
     "name": "stdout",
     "output_type": "stream",
     "text": [
      "       charges  high_cost\n",
      "0  16884.92400          1\n",
      "1   1725.55230          0\n",
      "2   4449.46200          0\n",
      "3  21984.47061          1\n",
      "4   3866.85520          0\n"
     ]
    }
   ],
   "source": [
    "# charges의 중간값(median)을 기준으로 고비용/저비용 분류\n",
    "median_charge = df['charges'].median()\n",
    "df['high_cost'] = (df['charges'] >= median_charge).astype(int)\n",
    "\n",
    "print(df[['charges', 'high_cost']].head())"
   ]
  },
  {
   "cell_type": "code",
   "execution_count": null,
   "id": "d46ec363",
   "metadata": {},
   "outputs": [],
   "source": [
    "# #Step 5: 분류 문제용 데이터 분리(train/test)\n",
    "# \t•\tX (입력): charges, high_cost를 제외한 나머지 특성들\n",
    "# \t•\ty (정답): high_cost\n",
    "\n",
    "from sklearn.model_selection import train_test_split\n",
    "\n",
    "X = df.drop(['charges', 'high_cost'], axis=1)\n",
    "y = df['high_cost']\n",
    "\n",
    "X_train, X_test, y_train, y_test = train_test_split(X, y, test_size=0.2, random_state=42)"
   ]
  },
  {
   "cell_type": "code",
   "execution_count": 7,
   "id": "9208e8ea",
   "metadata": {},
   "outputs": [],
   "source": [
    "import torch\n",
    "\n",
    "# 입력(X)은 float32 타입\n",
    "X_train = torch.tensor(X_train.values, dtype=torch.float32)\n",
    "X_test = torch.tensor(X_test.values, dtype=torch.float32)\n",
    "\n",
    "# 출력(y)은 float32 타입 + (2D로 reshape)\n",
    "y_train = torch.tensor(y_train.values, dtype=torch.float32).view(-1, 1)\n",
    "y_test = torch.tensor(y_test.values, dtype=torch.float32).view(-1, 1)"
   ]
  },
  {
   "cell_type": "code",
   "execution_count": 8,
   "id": "fcc5a414",
   "metadata": {},
   "outputs": [],
   "source": [
    "import torch.nn as nn\n",
    "\n",
    "class ClassificationModel(nn.Module):\n",
    "    def __init__(self):\n",
    "        super().__init__()\n",
    "        self.fc1 = nn.Linear(X_train.shape[1], 16)  # 은닉층: 16개 노드\n",
    "        self.fc2 = nn.Linear(16, 1)                 # 출력층: 1개 노드\n",
    "        self.relu = nn.ReLU()\n",
    "        self.sigmoid = nn.Sigmoid()\n",
    "        \n",
    "    def forward(self, x):\n",
    "        x = self.fc1(x)\n",
    "        x = self.relu(x)\n",
    "        x = self.fc2(x)\n",
    "        x = self.sigmoid(x)\n",
    "        return x\n",
    "\n",
    "model = ClassificationModel()"
   ]
  },
  {
   "cell_type": "code",
   "execution_count": null,
   "id": "8addeb77",
   "metadata": {},
   "outputs": [],
   "source": [
    "# Step 8: 학습 준비 (손실 함수 + 옵티마이저 설정)\n",
    "import torch.optim as optim\n",
    "\n",
    "criterion = nn.BCELoss()  # 이진 분류 손실 함수\n",
    "optimizer = optim.Adam(model.parameters(), lr=0.001)  # 옵티마이저 설정"
   ]
  },
  {
   "cell_type": "code",
   "execution_count": 11,
   "id": "0f44f286",
   "metadata": {},
   "outputs": [
    {
     "name": "stdout",
     "output_type": "stream",
     "text": [
      "Epoch [10/100], Loss: 0.8848\n",
      "Epoch [20/100], Loss: 0.5995\n",
      "Epoch [30/100], Loss: 0.6077\n",
      "Epoch [40/100], Loss: 0.6003\n",
      "Epoch [50/100], Loss: 0.5847\n",
      "Epoch [60/100], Loss: 0.5833\n",
      "Epoch [70/100], Loss: 0.5799\n",
      "Epoch [80/100], Loss: 0.5779\n",
      "Epoch [90/100], Loss: 0.5760\n",
      "Epoch [100/100], Loss: 0.5740\n"
     ]
    }
   ],
   "source": [
    "epochs = 100\n",
    "\n",
    "for epoch in range(epochs):\n",
    "    model.train()\n",
    "    \n",
    "    # 순전파\n",
    "    outputs = model(X_train)\n",
    "    loss = criterion(outputs, y_train)\n",
    "    \n",
    "    # 역전파\n",
    "    optimizer.zero_grad()\n",
    "    loss.backward()\n",
    "    optimizer.step()\n",
    "    \n",
    "    # 10 에포크마다 출력\n",
    "    if (epoch+1) % 10 == 0:\n",
    "        print(f'Epoch [{epoch+1}/{epochs}], Loss: {loss.item():.4f}')"
   ]
  },
  {
   "cell_type": "code",
   "execution_count": 12,
   "id": "77dc8465",
   "metadata": {},
   "outputs": [
    {
     "name": "stdout",
     "output_type": "stream",
     "text": [
      "Test Accuracy: 0.7463\n"
     ]
    }
   ],
   "source": [
    "# Step 10: 모델 평가 (테스트 데이터 정확도 확인)\n",
    "model.eval()\n",
    "with torch.no_grad():\n",
    "    preds = model(X_test)\n",
    "    preds_class = (preds >= 0.5).float()  # 0.5 기준으로 분류\n",
    "    \n",
    "    correct = (preds_class == y_test).sum().item()\n",
    "    acc = correct / y_test.size(0)\n",
    "    \n",
    "    print(f'Test Accuracy: {acc:.4f}')"
   ]
  },
  {
   "cell_type": "code",
   "execution_count": 13,
   "id": "a2acc48e",
   "metadata": {},
   "outputs": [],
   "source": [
    "# high_cost 컬럼 제거하고 회귀용 데이터셋 준비\n",
    "X = df.drop(['charges', 'high_cost'], axis=1)\n",
    "y = df['charges']\n",
    "\n",
    "from sklearn.model_selection import train_test_split\n",
    "\n",
    "# 다시 train/test 분리\n",
    "X_train, X_test, y_train, y_test = train_test_split(X, y, test_size=0.2, random_state=42)"
   ]
  },
  {
   "cell_type": "code",
   "execution_count": 14,
   "id": "96327132",
   "metadata": {},
   "outputs": [],
   "source": [
    "import torch\n",
    "\n",
    "X_train = torch.tensor(X_train.values, dtype=torch.float32)\n",
    "X_test = torch.tensor(X_test.values, dtype=torch.float32)\n",
    "y_train = torch.tensor(y_train.values, dtype=torch.float32).view(-1, 1)\n",
    "y_test = torch.tensor(y_test.values, dtype=torch.float32).view(-1, 1)"
   ]
  },
  {
   "cell_type": "code",
   "execution_count": 15,
   "id": "49221d18",
   "metadata": {},
   "outputs": [],
   "source": [
    "import torch.nn as nn\n",
    "\n",
    "class RegressionModel(nn.Module):\n",
    "    def __init__(self):\n",
    "        super().__init__()\n",
    "        self.fc1 = nn.Linear(X_train.shape[1], 16)  # 은닉층\n",
    "        self.fc2 = nn.Linear(16, 1)                  # 출력층\n",
    "        self.relu = nn.ReLU()\n",
    "        \n",
    "    def forward(self, x):\n",
    "        x = self.fc1(x)\n",
    "        x = self.relu(x)\n",
    "        x = self.fc2(x)\n",
    "        return x\n",
    "\n",
    "model = RegressionModel()"
   ]
  },
  {
   "cell_type": "code",
   "execution_count": null,
   "id": "c45f6c9d",
   "metadata": {},
   "outputs": [],
   "source": [
    "# 📍 Step 4: 손실 함수 및 옵티마이저 설정 (회귀용)\n",
    "import torch.optim as optim\n",
    "\n",
    "criterion = nn.MSELoss()  # 회귀용 손실 함수\n",
    "optimizer = optim.Adam(model.parameters(), lr=0.001)  # Adam 옵티마이저"
   ]
  },
  {
   "cell_type": "code",
   "execution_count": 17,
   "id": "b037571d",
   "metadata": {},
   "outputs": [
    {
     "name": "stdout",
     "output_type": "stream",
     "text": [
      "Epoch [30/300], Loss: 322380352.0000\n",
      "Epoch [60/300], Loss: 322209120.0000\n",
      "Epoch [90/300], Loss: 321978336.0000\n",
      "Epoch [120/300], Loss: 321676672.0000\n",
      "Epoch [150/300], Loss: 321303648.0000\n",
      "Epoch [180/300], Loss: 320853056.0000\n",
      "Epoch [210/300], Loss: 320313408.0000\n",
      "Epoch [240/300], Loss: 319678944.0000\n",
      "Epoch [270/300], Loss: 318950144.0000\n",
      "Epoch [300/300], Loss: 318129120.0000\n"
     ]
    }
   ],
   "source": [
    "epochs = 300\n",
    "\n",
    "for epoch in range(epochs):\n",
    "    model.train()\n",
    "    \n",
    "    outputs = model(X_train)\n",
    "    loss = criterion(outputs, y_train)\n",
    "    \n",
    "    optimizer.zero_grad()\n",
    "    loss.backward()\n",
    "    optimizer.step()\n",
    "    \n",
    "    if (epoch+1) % 30 == 0:\n",
    "        print(f'Epoch [{epoch+1}/{epochs}], Loss: {loss.item():.4f}')"
   ]
  },
  {
   "cell_type": "code",
   "execution_count": null,
   "id": "6d4acec0",
   "metadata": {},
   "outputs": [
    {
     "name": "stdout",
     "output_type": "stream",
     "text": [
      "Test MSE: 319133056.0000\n"
     ]
    }
   ],
   "source": [
    "# 손실함수 MSE \n",
    "model.eval()\n",
    "with torch.no_grad():\n",
    "    preds = model(X_test)\n",
    "    mse = criterion(preds, y_test)\n",
    "    print(f'Test MSE: {mse.item():.4f}')"
   ]
  },
  {
   "cell_type": "code",
   "execution_count": 19,
   "id": "047c2794",
   "metadata": {},
   "outputs": [
    {
     "name": "stdout",
     "output_type": "stream",
     "text": [
      "Test MSE: 319133056.0000\n"
     ]
    }
   ],
   "source": [
    "model.eval()\n",
    "with torch.no_grad():\n",
    "    preds = model(X_test)\n",
    "    mse = criterion(preds, y_test)\n",
    "    print(f'Test MSE: {mse.item():.4f}')"
   ]
  },
  {
   "cell_type": "code",
   "execution_count": null,
   "id": "103ce39a",
   "metadata": {},
   "outputs": [
    {
     "name": "stdout",
     "output_type": "stream",
     "text": [
      "Test R2 Score: -1.0556\n"
     ]
    }
   ],
   "source": [
    "#  R2 Score 평가\n",
    "from sklearn.metrics import r2_score\n",
    "\n",
    "# numpy로 변환해서 r2_score 계산\n",
    "r2 = r2_score(y_test.numpy(), preds.numpy())\n",
    "print(f'Test R2 Score: {r2:.4f}')"
   ]
  },
  {
   "cell_type": "code",
   "execution_count": 22,
   "id": "109b5bc1",
   "metadata": {},
   "outputs": [
    {
     "name": "stdout",
     "output_type": "stream",
     "text": [
      "   Patient_Number  Blood_Pressure_Abnormality  Level_of_Hemoglobin  \\\n",
      "0               1                           1                11.28   \n",
      "1               2                           0                 9.75   \n",
      "2               3                           1                10.79   \n",
      "3               4                           0                11.00   \n",
      "4               5                           1                14.17   \n",
      "\n",
      "   Genetic_Pedigree_Coefficient  Age  BMI  Sex  Pregnancy  Smoking  \\\n",
      "0                          0.90   34   23    1        1.0        0   \n",
      "1                          0.23   54   33    1        NaN        0   \n",
      "2                          0.91   70   49    0        NaN        0   \n",
      "3                          0.43   71   50    0        NaN        0   \n",
      "4                          0.83   52   19    0        NaN        0   \n",
      "\n",
      "   Physical_activity  salt_content_in_the_diet  alcohol_consumption_per_day  \\\n",
      "0              45961                     48071                          NaN   \n",
      "1              26106                     25333                        205.0   \n",
      "2               9995                     29465                         67.0   \n",
      "3              10635                      7439                        242.0   \n",
      "4              15619                     49644                        397.0   \n",
      "\n",
      "   Level_of_Stress  Chronic_kidney_disease  Adrenal_and_thyroid_disorders  \n",
      "0                2                       1                              1  \n",
      "1                3                       0                              0  \n",
      "2                2                       1                              0  \n",
      "3                1                       1                              0  \n",
      "4                2                       0                              0  \n"
     ]
    }
   ],
   "source": [
    "import pandas as pd\n",
    "\n",
    "# 데이터 읽기\n",
    "df = pd.read_csv('BP_data.csv')\n",
    "\n",
    "# 데이터 구조 보기\n",
    "print(df.head())\n"
   ]
  },
  {
   "cell_type": "code",
   "execution_count": 23,
   "id": "81615f97",
   "metadata": {},
   "outputs": [
    {
     "name": "stdout",
     "output_type": "stream",
     "text": [
      "Patient_Number                      0\n",
      "Blood_Pressure_Abnormality          0\n",
      "Level_of_Hemoglobin                 0\n",
      "Genetic_Pedigree_Coefficient       92\n",
      "Age                                 0\n",
      "BMI                                 0\n",
      "Sex                                 0\n",
      "Pregnancy                        1558\n",
      "Smoking                             0\n",
      "Physical_activity                   0\n",
      "salt_content_in_the_diet            0\n",
      "alcohol_consumption_per_day       242\n",
      "Level_of_Stress                     0\n",
      "Chronic_kidney_disease              0\n",
      "Adrenal_and_thyroid_disorders       0\n",
      "dtype: int64\n"
     ]
    }
   ],
   "source": [
    "print(df.isnull().sum())"
   ]
  },
  {
   "cell_type": "code",
   "execution_count": 24,
   "id": "951ce4e4",
   "metadata": {},
   "outputs": [
    {
     "name": "stdout",
     "output_type": "stream",
     "text": [
      "Patient_Number                   0\n",
      "Blood_Pressure_Abnormality       0\n",
      "Level_of_Hemoglobin              0\n",
      "Genetic_Pedigree_Coefficient     0\n",
      "Age                              0\n",
      "BMI                              0\n",
      "Sex                              0\n",
      "Smoking                          0\n",
      "Physical_activity                0\n",
      "salt_content_in_the_diet         0\n",
      "alcohol_consumption_per_day      0\n",
      "Level_of_Stress                  0\n",
      "Chronic_kidney_disease           0\n",
      "Adrenal_and_thyroid_disorders    0\n",
      "dtype: int64\n"
     ]
    }
   ],
   "source": [
    "# 1. Pregnancy 컬럼 삭제\n",
    "df = df.drop(columns=['Pregnancy'])\n",
    "\n",
    "# 2. 나머지 NaN 평균값으로 채우기\n",
    "df['Genetic_Pedigree_Coefficient'] = df['Genetic_Pedigree_Coefficient'].fillna(df['Genetic_Pedigree_Coefficient'].mean())\n",
    "df['alcohol_consumption_per_day'] = df['alcohol_consumption_per_day'].fillna(df['alcohol_consumption_per_day'].mean())\n",
    "\n",
    "# NaN이 제대로 처리됐는지 확인\n",
    "print(df.isnull().sum())"
   ]
  },
  {
   "cell_type": "code",
   "execution_count": 25,
   "id": "5a5691f9",
   "metadata": {},
   "outputs": [],
   "source": [
    "df = df.drop(columns=['Patient_Number'])"
   ]
  },
  {
   "cell_type": "code",
   "execution_count": 26,
   "id": "c12bd325",
   "metadata": {},
   "outputs": [],
   "source": [
    "from sklearn.preprocessing import StandardScaler\n",
    "\n",
    "scaler = StandardScaler()\n",
    "X = scaler.fit_transform(X)"
   ]
  },
  {
   "cell_type": "code",
   "execution_count": null,
   "id": "fe8aa31b",
   "metadata": {},
   "outputs": [],
   "source": [
    "import pandas as pd\n",
    "from sklearn.preprocessing import StandardScaler\n",
    "\n",
    "# 데이터 불러오기\n",
    "df = pd.read_csv('BP_data.csv')\n",
    "\n",
    "# 1. NaN 처리\n",
    "df = df.drop(columns=['Pregnancy'])  # Pregnancy 컬럼 삭제\n",
    "df['Genetic_Pedigree_Coefficient'] = df['Genetic_Pedigree_Coefficient'].fillna(df['Genetic_Pedigree_Coefficient'].mean())\n",
    "df['alcohol_consumption_per_day'] = df['alcohol_consumption_per_day'].fillna(df['alcohol_consumption_per_day'].mean())\n",
    "\n",
    "# 2. 불필요 컬럼 삭제\n",
    "df = df.drop(columns=['Patient_Number'])\n",
    "\n",
    "# 3. 데이터 타입 점검 (생략 가능 - 다 숫자형)\n",
    "\n",
    "# 4. 이상치 점검 (선택, 이번에는 생략)\n",
    "\n",
    "# 5. 타겟 분리\n",
    "X = df.drop('Blood_Pressure_Abnormality', axis=1)\n",
    "y = df['Blood_Pressure_Abnormality']\n",
    "\n",
    "# 6. 스케일링\n",
    "scaler = StandardScaler()\n",
    "X = scaler.fit_transform(X)"
   ]
  },
  {
   "cell_type": "code",
   "execution_count": 28,
   "id": "f37c8749",
   "metadata": {},
   "outputs": [
    {
     "ename": "FileNotFoundError",
     "evalue": "[Errno 2] No such file or directory: '파일명.csv'",
     "output_type": "error",
     "traceback": [
      "\u001b[0;31m---------------------------------------------------------------------------\u001b[0m",
      "\u001b[0;31mFileNotFoundError\u001b[0m                         Traceback (most recent call last)",
      "Cell \u001b[0;32mIn[28], line 6\u001b[0m\n\u001b[1;32m      3\u001b[0m \u001b[38;5;28;01mfrom\u001b[39;00m \u001b[38;5;21;01msklearn\u001b[39;00m\u001b[38;5;21;01m.\u001b[39;00m\u001b[38;5;21;01mmodel_selection\u001b[39;00m \u001b[38;5;28;01mimport\u001b[39;00m train_test_split\n\u001b[1;32m      5\u001b[0m \u001b[38;5;66;03m# 1. 데이터 불러오기\u001b[39;00m\n\u001b[0;32m----> 6\u001b[0m df \u001b[38;5;241m=\u001b[39m pd\u001b[38;5;241m.\u001b[39mread_csv(\u001b[38;5;124m'\u001b[39m\u001b[38;5;124m파일명.csv\u001b[39m\u001b[38;5;124m'\u001b[39m)\n\u001b[1;32m      8\u001b[0m \u001b[38;5;66;03m# 2. NaN 확인\u001b[39;00m\n\u001b[1;32m      9\u001b[0m \u001b[38;5;28mprint\u001b[39m(df\u001b[38;5;241m.\u001b[39misnull()\u001b[38;5;241m.\u001b[39msum())\n",
      "File \u001b[0;32m/opt/anaconda3/lib/python3.12/site-packages/pandas/io/parsers/readers.py:1026\u001b[0m, in \u001b[0;36mread_csv\u001b[0;34m(filepath_or_buffer, sep, delimiter, header, names, index_col, usecols, dtype, engine, converters, true_values, false_values, skipinitialspace, skiprows, skipfooter, nrows, na_values, keep_default_na, na_filter, verbose, skip_blank_lines, parse_dates, infer_datetime_format, keep_date_col, date_parser, date_format, dayfirst, cache_dates, iterator, chunksize, compression, thousands, decimal, lineterminator, quotechar, quoting, doublequote, escapechar, comment, encoding, encoding_errors, dialect, on_bad_lines, delim_whitespace, low_memory, memory_map, float_precision, storage_options, dtype_backend)\u001b[0m\n\u001b[1;32m   1013\u001b[0m kwds_defaults \u001b[38;5;241m=\u001b[39m _refine_defaults_read(\n\u001b[1;32m   1014\u001b[0m     dialect,\n\u001b[1;32m   1015\u001b[0m     delimiter,\n\u001b[0;32m   (...)\u001b[0m\n\u001b[1;32m   1022\u001b[0m     dtype_backend\u001b[38;5;241m=\u001b[39mdtype_backend,\n\u001b[1;32m   1023\u001b[0m )\n\u001b[1;32m   1024\u001b[0m kwds\u001b[38;5;241m.\u001b[39mupdate(kwds_defaults)\n\u001b[0;32m-> 1026\u001b[0m \u001b[38;5;28;01mreturn\u001b[39;00m _read(filepath_or_buffer, kwds)\n",
      "File \u001b[0;32m/opt/anaconda3/lib/python3.12/site-packages/pandas/io/parsers/readers.py:620\u001b[0m, in \u001b[0;36m_read\u001b[0;34m(filepath_or_buffer, kwds)\u001b[0m\n\u001b[1;32m    617\u001b[0m _validate_names(kwds\u001b[38;5;241m.\u001b[39mget(\u001b[38;5;124m\"\u001b[39m\u001b[38;5;124mnames\u001b[39m\u001b[38;5;124m\"\u001b[39m, \u001b[38;5;28;01mNone\u001b[39;00m))\n\u001b[1;32m    619\u001b[0m \u001b[38;5;66;03m# Create the parser.\u001b[39;00m\n\u001b[0;32m--> 620\u001b[0m parser \u001b[38;5;241m=\u001b[39m TextFileReader(filepath_or_buffer, \u001b[38;5;241m*\u001b[39m\u001b[38;5;241m*\u001b[39mkwds)\n\u001b[1;32m    622\u001b[0m \u001b[38;5;28;01mif\u001b[39;00m chunksize \u001b[38;5;129;01mor\u001b[39;00m iterator:\n\u001b[1;32m    623\u001b[0m     \u001b[38;5;28;01mreturn\u001b[39;00m parser\n",
      "File \u001b[0;32m/opt/anaconda3/lib/python3.12/site-packages/pandas/io/parsers/readers.py:1620\u001b[0m, in \u001b[0;36mTextFileReader.__init__\u001b[0;34m(self, f, engine, **kwds)\u001b[0m\n\u001b[1;32m   1617\u001b[0m     \u001b[38;5;28mself\u001b[39m\u001b[38;5;241m.\u001b[39moptions[\u001b[38;5;124m\"\u001b[39m\u001b[38;5;124mhas_index_names\u001b[39m\u001b[38;5;124m\"\u001b[39m] \u001b[38;5;241m=\u001b[39m kwds[\u001b[38;5;124m\"\u001b[39m\u001b[38;5;124mhas_index_names\u001b[39m\u001b[38;5;124m\"\u001b[39m]\n\u001b[1;32m   1619\u001b[0m \u001b[38;5;28mself\u001b[39m\u001b[38;5;241m.\u001b[39mhandles: IOHandles \u001b[38;5;241m|\u001b[39m \u001b[38;5;28;01mNone\u001b[39;00m \u001b[38;5;241m=\u001b[39m \u001b[38;5;28;01mNone\u001b[39;00m\n\u001b[0;32m-> 1620\u001b[0m \u001b[38;5;28mself\u001b[39m\u001b[38;5;241m.\u001b[39m_engine \u001b[38;5;241m=\u001b[39m \u001b[38;5;28mself\u001b[39m\u001b[38;5;241m.\u001b[39m_make_engine(f, \u001b[38;5;28mself\u001b[39m\u001b[38;5;241m.\u001b[39mengine)\n",
      "File \u001b[0;32m/opt/anaconda3/lib/python3.12/site-packages/pandas/io/parsers/readers.py:1880\u001b[0m, in \u001b[0;36mTextFileReader._make_engine\u001b[0;34m(self, f, engine)\u001b[0m\n\u001b[1;32m   1878\u001b[0m     \u001b[38;5;28;01mif\u001b[39;00m \u001b[38;5;124m\"\u001b[39m\u001b[38;5;124mb\u001b[39m\u001b[38;5;124m\"\u001b[39m \u001b[38;5;129;01mnot\u001b[39;00m \u001b[38;5;129;01min\u001b[39;00m mode:\n\u001b[1;32m   1879\u001b[0m         mode \u001b[38;5;241m+\u001b[39m\u001b[38;5;241m=\u001b[39m \u001b[38;5;124m\"\u001b[39m\u001b[38;5;124mb\u001b[39m\u001b[38;5;124m\"\u001b[39m\n\u001b[0;32m-> 1880\u001b[0m \u001b[38;5;28mself\u001b[39m\u001b[38;5;241m.\u001b[39mhandles \u001b[38;5;241m=\u001b[39m get_handle(\n\u001b[1;32m   1881\u001b[0m     f,\n\u001b[1;32m   1882\u001b[0m     mode,\n\u001b[1;32m   1883\u001b[0m     encoding\u001b[38;5;241m=\u001b[39m\u001b[38;5;28mself\u001b[39m\u001b[38;5;241m.\u001b[39moptions\u001b[38;5;241m.\u001b[39mget(\u001b[38;5;124m\"\u001b[39m\u001b[38;5;124mencoding\u001b[39m\u001b[38;5;124m\"\u001b[39m, \u001b[38;5;28;01mNone\u001b[39;00m),\n\u001b[1;32m   1884\u001b[0m     compression\u001b[38;5;241m=\u001b[39m\u001b[38;5;28mself\u001b[39m\u001b[38;5;241m.\u001b[39moptions\u001b[38;5;241m.\u001b[39mget(\u001b[38;5;124m\"\u001b[39m\u001b[38;5;124mcompression\u001b[39m\u001b[38;5;124m\"\u001b[39m, \u001b[38;5;28;01mNone\u001b[39;00m),\n\u001b[1;32m   1885\u001b[0m     memory_map\u001b[38;5;241m=\u001b[39m\u001b[38;5;28mself\u001b[39m\u001b[38;5;241m.\u001b[39moptions\u001b[38;5;241m.\u001b[39mget(\u001b[38;5;124m\"\u001b[39m\u001b[38;5;124mmemory_map\u001b[39m\u001b[38;5;124m\"\u001b[39m, \u001b[38;5;28;01mFalse\u001b[39;00m),\n\u001b[1;32m   1886\u001b[0m     is_text\u001b[38;5;241m=\u001b[39mis_text,\n\u001b[1;32m   1887\u001b[0m     errors\u001b[38;5;241m=\u001b[39m\u001b[38;5;28mself\u001b[39m\u001b[38;5;241m.\u001b[39moptions\u001b[38;5;241m.\u001b[39mget(\u001b[38;5;124m\"\u001b[39m\u001b[38;5;124mencoding_errors\u001b[39m\u001b[38;5;124m\"\u001b[39m, \u001b[38;5;124m\"\u001b[39m\u001b[38;5;124mstrict\u001b[39m\u001b[38;5;124m\"\u001b[39m),\n\u001b[1;32m   1888\u001b[0m     storage_options\u001b[38;5;241m=\u001b[39m\u001b[38;5;28mself\u001b[39m\u001b[38;5;241m.\u001b[39moptions\u001b[38;5;241m.\u001b[39mget(\u001b[38;5;124m\"\u001b[39m\u001b[38;5;124mstorage_options\u001b[39m\u001b[38;5;124m\"\u001b[39m, \u001b[38;5;28;01mNone\u001b[39;00m),\n\u001b[1;32m   1889\u001b[0m )\n\u001b[1;32m   1890\u001b[0m \u001b[38;5;28;01massert\u001b[39;00m \u001b[38;5;28mself\u001b[39m\u001b[38;5;241m.\u001b[39mhandles \u001b[38;5;129;01mis\u001b[39;00m \u001b[38;5;129;01mnot\u001b[39;00m \u001b[38;5;28;01mNone\u001b[39;00m\n\u001b[1;32m   1891\u001b[0m f \u001b[38;5;241m=\u001b[39m \u001b[38;5;28mself\u001b[39m\u001b[38;5;241m.\u001b[39mhandles\u001b[38;5;241m.\u001b[39mhandle\n",
      "File \u001b[0;32m/opt/anaconda3/lib/python3.12/site-packages/pandas/io/common.py:873\u001b[0m, in \u001b[0;36mget_handle\u001b[0;34m(path_or_buf, mode, encoding, compression, memory_map, is_text, errors, storage_options)\u001b[0m\n\u001b[1;32m    868\u001b[0m \u001b[38;5;28;01melif\u001b[39;00m \u001b[38;5;28misinstance\u001b[39m(handle, \u001b[38;5;28mstr\u001b[39m):\n\u001b[1;32m    869\u001b[0m     \u001b[38;5;66;03m# Check whether the filename is to be opened in binary mode.\u001b[39;00m\n\u001b[1;32m    870\u001b[0m     \u001b[38;5;66;03m# Binary mode does not support 'encoding' and 'newline'.\u001b[39;00m\n\u001b[1;32m    871\u001b[0m     \u001b[38;5;28;01mif\u001b[39;00m ioargs\u001b[38;5;241m.\u001b[39mencoding \u001b[38;5;129;01mand\u001b[39;00m \u001b[38;5;124m\"\u001b[39m\u001b[38;5;124mb\u001b[39m\u001b[38;5;124m\"\u001b[39m \u001b[38;5;129;01mnot\u001b[39;00m \u001b[38;5;129;01min\u001b[39;00m ioargs\u001b[38;5;241m.\u001b[39mmode:\n\u001b[1;32m    872\u001b[0m         \u001b[38;5;66;03m# Encoding\u001b[39;00m\n\u001b[0;32m--> 873\u001b[0m         handle \u001b[38;5;241m=\u001b[39m \u001b[38;5;28mopen\u001b[39m(\n\u001b[1;32m    874\u001b[0m             handle,\n\u001b[1;32m    875\u001b[0m             ioargs\u001b[38;5;241m.\u001b[39mmode,\n\u001b[1;32m    876\u001b[0m             encoding\u001b[38;5;241m=\u001b[39mioargs\u001b[38;5;241m.\u001b[39mencoding,\n\u001b[1;32m    877\u001b[0m             errors\u001b[38;5;241m=\u001b[39merrors,\n\u001b[1;32m    878\u001b[0m             newline\u001b[38;5;241m=\u001b[39m\u001b[38;5;124m\"\u001b[39m\u001b[38;5;124m\"\u001b[39m,\n\u001b[1;32m    879\u001b[0m         )\n\u001b[1;32m    880\u001b[0m     \u001b[38;5;28;01melse\u001b[39;00m:\n\u001b[1;32m    881\u001b[0m         \u001b[38;5;66;03m# Binary mode\u001b[39;00m\n\u001b[1;32m    882\u001b[0m         handle \u001b[38;5;241m=\u001b[39m \u001b[38;5;28mopen\u001b[39m(handle, ioargs\u001b[38;5;241m.\u001b[39mmode)\n",
      "\u001b[0;31mFileNotFoundError\u001b[0m: [Errno 2] No such file or directory: '파일명.csv'"
     ]
    }
   ],
   "source": [
    "import pandas as pd\n",
    "from sklearn.preprocessing import StandardScaler, LabelEncoder\n",
    "from sklearn.model_selection import train_test_split\n",
    "\n",
    "# 1. 데이터 불러오기\n",
    "df = pd.read_csv('파일명.csv')\n",
    "\n",
    "# 2. NaN 확인\n",
    "print(df.isnull().sum())\n",
    "\n",
    "# 3. NaN 처리\n",
    "df = df.drop(columns=['삭제할컬럼명'])\n",
    "df['컬럼명'] = df['컬럼명'].fillna(df['컬럼명'].mean())\n",
    "\n",
    "# 4. 불필요한 컬럼 삭제\n",
    "df = df.drop(columns=['Patient_Number'])\n",
    "\n",
    "# 5. 데이터 타입 점검 (필요시 Label Encoding)\n",
    "# le = LabelEncoder()\n",
    "# df['컬럼명'] = le.fit_transform(df['컬럼명'])\n",
    "\n",
    "# 6. X, y 분리\n",
    "X = df.drop('타겟컬럼명', axis=1)\n",
    "y = df['타겟컬럼명']\n",
    "\n",
    "# 7. 스케일링\n",
    "scaler = StandardScaler()\n",
    "X = scaler.fit_transform(X)\n",
    "\n",
    "# 8. train/test 분할\n",
    "X_train, X_test, y_train, y_test = train_test_split(X, y, test_size=0.2, random_state=42)"
   ]
  }
 ],
 "metadata": {
  "kernelspec": {
   "display_name": "Python (tfenv)",
   "language": "python",
   "name": "tfenv"
  },
  "language_info": {
   "codemirror_mode": {
    "name": "ipython",
    "version": 3
   },
   "file_extension": ".py",
   "mimetype": "text/x-python",
   "name": "python",
   "nbconvert_exporter": "python",
   "pygments_lexer": "ipython3",
   "version": "3.12.2"
  }
 },
 "nbformat": 4,
 "nbformat_minor": 5
}
