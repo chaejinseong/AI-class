{
 "cells": [
  {
   "cell_type": "code",
   "execution_count": 1,
   "metadata": {},
   "outputs": [],
   "source": [
    "import pandas as pd\n",
    "from sklearn.model_selection import train_test_split\n",
    "from sklearn.preprocessing import StandardScaler\n",
    "\n",
    "def preprocess_data(df, label_column, test_size=0.2, scale=True, random_state=42):\n",
    "    \"\"\"\n",
    "    딥러닝 전처리 템플릿\n",
    "    - df: 전체 DataFrame\n",
    "    - label_column: 레이블 컬럼명 (문자열)\n",
    "    - test_size: 테스트 셋 비율\n",
    "    - scale: 스케일링 여부\n",
    "    \"\"\"\n",
    "    # 1. 결측치 처리 (기본: 제거)\n",
    "    df = df.dropna()\n",
    "\n",
    "    # 2. 입력/출력 분리\n",
    "    X = df.drop(columns=[label_column])\n",
    "    y = df[label_column]\n",
    "\n",
    "    # 3. 데이터 분할\n",
    "    X_train, X_test, y_train, y_test = train_test_split(\n",
    "        X, y, test_size=test_size, random_state=random_state\n",
    "    )\n",
    "\n",
    "    # 4. 스케일링\n",
    "    if scale:\n",
    "        scaler = StandardScaler()\n",
    "        X_train = scaler.fit_transform(X_train)\n",
    "        X_test = scaler.transform(X_test)\n",
    "    else:\n",
    "        scaler = None\n",
    "\n",
    "    return X_train, X_test, y_train, y_test, scaler"
   ]
  },
  {
   "cell_type": "code",
   "execution_count": 18,
   "metadata": {},
   "outputs": [],
   "source": [
    "df = pd.read_csv(\"kc_house_data (1).csv\")  # 1. 데이터 불러오기\n",
    "\n",
    "df.drop(columns=[\"id\"], inplace=True)  # 2. 불필요한 고유 ID 제거\n",
    "\n",
    "df[\"date\"] = pd.to_datetime(df[\"date\"], format=\"%Y%m%dT%H%M%S\")  # 3. 날짜 파싱\n",
    "df[\"year\"] = df[\"date\"].dt.year  # → 연도 추출\n",
    "df[\"month\"] = df[\"date\"].dt.month  # → 월 추출\n",
    "df.drop(columns=[\"date\"], inplace=True)  # 4. 원래 문자열 date 제거\n",
    "\n",
    "df[\"zipcode\"] = df[\"zipcode\"].astype(str)  # 5. zipcode 범주형 처리 준비\n",
    "df = pd.get_dummies(df, columns=[\"zipcode\"])  # → One-Hot 인코딩\n",
    "\n",
    "df[\"renovated\"] = df[\"yr_renovated\"].apply(lambda x: 1 if x > 0 else 0)  # 6. 리노베이션 여부 이진화\n",
    "df.drop(columns=[\"yr_renovated\"], inplace=True)\n",
    "df[\"house_age\"] = df[\"year\"] - df[\"yr_built\"]\n",
    "df[\"bath_per_bed\"] = df[\"bathrooms\"] / (df[\"bedrooms\"] + 1)\n",
    "X_train, X_test, y_train, y_test, scaler = preprocess_data(  # 7. 기본 전처리 (결측치 제거, 분할, 스케일링)\n",
    "    df,\n",
    "    label_column=\"price\",\n",
    "    test_size=0.2,\n",
    "    scale=True,\n",
    "    random_state=42\n",
    ")"
   ]
  },
  {
   "cell_type": "code",
   "execution_count": 19,
   "metadata": {},
   "outputs": [
    {
     "name": "stderr",
     "output_type": "stream",
     "text": [
      "/opt/anaconda3/envs/ai_env/lib/python3.10/site-packages/keras/src/layers/core/dense.py:87: UserWarning: Do not pass an `input_shape`/`input_dim` argument to a layer. When using Sequential models, prefer using an `Input(shape)` object as the first layer in the model instead.\n",
      "  super().__init__(activity_regularizer=activity_regularizer, **kwargs)\n"
     ]
    }
   ],
   "source": [
    "import tensorflow as tf\n",
    "from tensorflow.keras.models import Sequential\n",
    "from tensorflow.keras.layers import Dense\n",
    "from tensorflow.keras.layers import Dense, Dropout, BatchNormalization #개선안\n",
    "\n",
    "\n",
    "# 1. 모델 정의\n",
    "model = Sequential()\n",
    "model.add(Dense(128, activation='relu', input_shape=(X_train.shape[1],)))\n",
    "model.add(BatchNormalization())#개선\n",
    "model.add(Dense(64, activation='relu'))\n",
    "model.add(Dropout(0.3))#개선\n",
    "model.add(Dense(32, activation='relu'))\n",
    "model.add(Dense(1))  # 회귀는 linear output (활성화 함수 없음)\n",
    "\n",
    "# 2. 컴파일\n",
    "model.compile(optimizer='adam', loss='mse', metrics=['mae'])"
   ]
  },
  {
   "cell_type": "code",
   "execution_count": 20,
   "metadata": {},
   "outputs": [
    {
     "name": "stdout",
     "output_type": "stream",
     "text": [
      "Epoch 1/50\n",
      "\u001b[1m487/487\u001b[0m \u001b[32m━━━━━━━━━━━━━━━━━━━━\u001b[0m\u001b[37m\u001b[0m \u001b[1m1s\u001b[0m 1ms/step - loss: 409146097664.0000 - mae: 531605.8750 - val_loss: 152279810048.0000 - val_mae: 338685.4688\n",
      "Epoch 2/50\n",
      "\u001b[1m487/487\u001b[0m \u001b[32m━━━━━━━━━━━━━━━━━━━━\u001b[0m\u001b[37m\u001b[0m \u001b[1m1s\u001b[0m 1ms/step - loss: 115507331072.0000 - mae: 245709.0625 - val_loss: 25673603072.0000 - val_mae: 108220.8516\n",
      "Epoch 3/50\n",
      "\u001b[1m487/487\u001b[0m \u001b[32m━━━━━━━━━━━━━━━━━━━━\u001b[0m\u001b[37m\u001b[0m \u001b[1m1s\u001b[0m 1ms/step - loss: 47949070336.0000 - mae: 139839.3438 - val_loss: 21371226112.0000 - val_mae: 96393.3984\n",
      "Epoch 4/50\n",
      "\u001b[1m487/487\u001b[0m \u001b[32m━━━━━━━━━━━━━━━━━━━━\u001b[0m\u001b[37m\u001b[0m \u001b[1m0s\u001b[0m 950us/step - loss: 55773425664.0000 - mae: 138106.0312 - val_loss: 20169420800.0000 - val_mae: 91260.1562\n",
      "Epoch 5/50\n",
      "\u001b[1m487/487\u001b[0m \u001b[32m━━━━━━━━━━━━━━━━━━━━\u001b[0m\u001b[37m\u001b[0m \u001b[1m0s\u001b[0m 945us/step - loss: 37185433600.0000 - mae: 130382.6094 - val_loss: 19643840512.0000 - val_mae: 91283.9062\n",
      "Epoch 6/50\n",
      "\u001b[1m487/487\u001b[0m \u001b[32m━━━━━━━━━━━━━━━━━━━━\u001b[0m\u001b[37m\u001b[0m \u001b[1m0s\u001b[0m 970us/step - loss: 35156828160.0000 - mae: 126665.4141 - val_loss: 18754127872.0000 - val_mae: 87952.4609\n",
      "Epoch 7/50\n",
      "\u001b[1m487/487\u001b[0m \u001b[32m━━━━━━━━━━━━━━━━━━━━\u001b[0m\u001b[37m\u001b[0m \u001b[1m0s\u001b[0m 974us/step - loss: 38337232896.0000 - mae: 127388.5391 - val_loss: 17646843904.0000 - val_mae: 84991.6641\n",
      "Epoch 8/50\n",
      "\u001b[1m487/487\u001b[0m \u001b[32m━━━━━━━━━━━━━━━━━━━━\u001b[0m\u001b[37m\u001b[0m \u001b[1m1s\u001b[0m 1ms/step - loss: 31267061760.0000 - mae: 117575.8047 - val_loss: 17699774464.0000 - val_mae: 86600.5781\n",
      "Epoch 9/50\n",
      "\u001b[1m487/487\u001b[0m \u001b[32m━━━━━━━━━━━━━━━━━━━━\u001b[0m\u001b[37m\u001b[0m \u001b[1m0s\u001b[0m 993us/step - loss: 34652631040.0000 - mae: 120207.6250 - val_loss: 16725584896.0000 - val_mae: 81162.1875\n",
      "Epoch 10/50\n",
      "\u001b[1m487/487\u001b[0m \u001b[32m━━━━━━━━━━━━━━━━━━━━\u001b[0m\u001b[37m\u001b[0m \u001b[1m1s\u001b[0m 1ms/step - loss: 29725429760.0000 - mae: 113945.9531 - val_loss: 15232777216.0000 - val_mae: 79016.1875\n",
      "Epoch 11/50\n",
      "\u001b[1m487/487\u001b[0m \u001b[32m━━━━━━━━━━━━━━━━━━━━\u001b[0m\u001b[37m\u001b[0m \u001b[1m0s\u001b[0m 969us/step - loss: 32740227072.0000 - mae: 113050.2500 - val_loss: 14924923904.0000 - val_mae: 77820.5938\n",
      "Epoch 12/50\n",
      "\u001b[1m487/487\u001b[0m \u001b[32m━━━━━━━━━━━━━━━━━━━━\u001b[0m\u001b[37m\u001b[0m \u001b[1m0s\u001b[0m 943us/step - loss: 27896934400.0000 - mae: 109447.6094 - val_loss: 14562161664.0000 - val_mae: 75791.1953\n",
      "Epoch 13/50\n",
      "\u001b[1m487/487\u001b[0m \u001b[32m━━━━━━━━━━━━━━━━━━━━\u001b[0m\u001b[37m\u001b[0m \u001b[1m0s\u001b[0m 952us/step - loss: 26364891136.0000 - mae: 105274.8984 - val_loss: 14913452032.0000 - val_mae: 77514.2812\n",
      "Epoch 14/50\n",
      "\u001b[1m487/487\u001b[0m \u001b[32m━━━━━━━━━━━━━━━━━━━━\u001b[0m\u001b[37m\u001b[0m \u001b[1m0s\u001b[0m 962us/step - loss: 27844825088.0000 - mae: 103263.2500 - val_loss: 14198414336.0000 - val_mae: 75192.9609\n",
      "Epoch 15/50\n",
      "\u001b[1m487/487\u001b[0m \u001b[32m━━━━━━━━━━━━━━━━━━━━\u001b[0m\u001b[37m\u001b[0m \u001b[1m1s\u001b[0m 997us/step - loss: 24677619712.0000 - mae: 101416.3516 - val_loss: 13942200320.0000 - val_mae: 72459.7734\n",
      "Epoch 16/50\n",
      "\u001b[1m487/487\u001b[0m \u001b[32m━━━━━━━━━━━━━━━━━━━━\u001b[0m\u001b[37m\u001b[0m \u001b[1m1s\u001b[0m 1ms/step - loss: 23968063488.0000 - mae: 95938.4375 - val_loss: 13770423296.0000 - val_mae: 73361.3438\n",
      "Epoch 17/50\n",
      "\u001b[1m487/487\u001b[0m \u001b[32m━━━━━━━━━━━━━━━━━━━━\u001b[0m\u001b[37m\u001b[0m \u001b[1m0s\u001b[0m 983us/step - loss: 23906353152.0000 - mae: 96934.6094 - val_loss: 13374636032.0000 - val_mae: 70981.2812\n",
      "Epoch 18/50\n",
      "\u001b[1m487/487\u001b[0m \u001b[32m━━━━━━━━━━━━━━━━━━━━\u001b[0m\u001b[37m\u001b[0m \u001b[1m0s\u001b[0m 953us/step - loss: 22215051264.0000 - mae: 95823.6562 - val_loss: 13819957248.0000 - val_mae: 71988.3594\n",
      "Epoch 19/50\n",
      "\u001b[1m487/487\u001b[0m \u001b[32m━━━━━━━━━━━━━━━━━━━━\u001b[0m\u001b[37m\u001b[0m \u001b[1m0s\u001b[0m 947us/step - loss: 20665077760.0000 - mae: 93834.7969 - val_loss: 13432203264.0000 - val_mae: 70838.3047\n",
      "Epoch 20/50\n",
      "\u001b[1m487/487\u001b[0m \u001b[32m━━━━━━━━━━━━━━━━━━━━\u001b[0m\u001b[37m\u001b[0m \u001b[1m0s\u001b[0m 993us/step - loss: 21646419968.0000 - mae: 92957.0859 - val_loss: 13687444480.0000 - val_mae: 71551.6562\n",
      "Epoch 21/50\n",
      "\u001b[1m487/487\u001b[0m \u001b[32m━━━━━━━━━━━━━━━━━━━━\u001b[0m\u001b[37m\u001b[0m \u001b[1m1s\u001b[0m 1ms/step - loss: 20170561536.0000 - mae: 93157.2500 - val_loss: 13743585280.0000 - val_mae: 71906.6875\n",
      "Epoch 22/50\n",
      "\u001b[1m487/487\u001b[0m \u001b[32m━━━━━━━━━━━━━━━━━━━━\u001b[0m\u001b[37m\u001b[0m \u001b[1m0s\u001b[0m 958us/step - loss: 20558835712.0000 - mae: 92917.7812 - val_loss: 14187668480.0000 - val_mae: 72532.8516\n",
      "Epoch 23/50\n",
      "\u001b[1m487/487\u001b[0m \u001b[32m━━━━━━━━━━━━━━━━━━━━\u001b[0m\u001b[37m\u001b[0m \u001b[1m0s\u001b[0m 975us/step - loss: 20925702144.0000 - mae: 94115.6328 - val_loss: 14150534144.0000 - val_mae: 71847.8203\n",
      "Epoch 24/50\n",
      "\u001b[1m487/487\u001b[0m \u001b[32m━━━━━━━━━━━━━━━━━━━━\u001b[0m\u001b[37m\u001b[0m \u001b[1m0s\u001b[0m 944us/step - loss: 18525356032.0000 - mae: 91519.1562 - val_loss: 13912144896.0000 - val_mae: 71872.1875\n",
      "Epoch 25/50\n",
      "\u001b[1m487/487\u001b[0m \u001b[32m━━━━━━━━━━━━━━━━━━━━\u001b[0m\u001b[37m\u001b[0m \u001b[1m1s\u001b[0m 1ms/step - loss: 20019439616.0000 - mae: 92898.9688 - val_loss: 13675664384.0000 - val_mae: 71423.2031\n",
      "Epoch 26/50\n",
      "\u001b[1m487/487\u001b[0m \u001b[32m━━━━━━━━━━━━━━━━━━━━\u001b[0m\u001b[37m\u001b[0m \u001b[1m0s\u001b[0m 968us/step - loss: 20255733760.0000 - mae: 90662.4609 - val_loss: 14015761408.0000 - val_mae: 70724.7500\n",
      "Epoch 27/50\n",
      "\u001b[1m487/487\u001b[0m \u001b[32m━━━━━━━━━━━━━━━━━━━━\u001b[0m\u001b[37m\u001b[0m \u001b[1m1s\u001b[0m 1ms/step - loss: 19204835328.0000 - mae: 92318.1094 - val_loss: 13413313536.0000 - val_mae: 70752.0078\n",
      "Epoch 28/50\n",
      "\u001b[1m487/487\u001b[0m \u001b[32m━━━━━━━━━━━━━━━━━━━━\u001b[0m\u001b[37m\u001b[0m \u001b[1m0s\u001b[0m 977us/step - loss: 18484459520.0000 - mae: 91773.1406 - val_loss: 13721690112.0000 - val_mae: 72052.4297\n",
      "Epoch 29/50\n",
      "\u001b[1m487/487\u001b[0m \u001b[32m━━━━━━━━━━━━━━━━━━━━\u001b[0m\u001b[37m\u001b[0m \u001b[1m0s\u001b[0m 942us/step - loss: 18986098688.0000 - mae: 90458.8594 - val_loss: 13806565376.0000 - val_mae: 70904.0156\n",
      "Epoch 30/50\n",
      "\u001b[1m487/487\u001b[0m \u001b[32m━━━━━━━━━━━━━━━━━━━━\u001b[0m\u001b[37m\u001b[0m \u001b[1m0s\u001b[0m 942us/step - loss: 21057521664.0000 - mae: 95008.2422 - val_loss: 14269351936.0000 - val_mae: 72760.4062\n",
      "Epoch 31/50\n",
      "\u001b[1m487/487\u001b[0m \u001b[32m━━━━━━━━━━━━━━━━━━━━\u001b[0m\u001b[37m\u001b[0m \u001b[1m0s\u001b[0m 969us/step - loss: 18901379072.0000 - mae: 92223.0000 - val_loss: 13546717184.0000 - val_mae: 70298.0625\n",
      "Epoch 32/50\n",
      "\u001b[1m487/487\u001b[0m \u001b[32m━━━━━━━━━━━━━━━━━━━━\u001b[0m\u001b[37m\u001b[0m \u001b[1m1s\u001b[0m 1ms/step - loss: 18703415296.0000 - mae: 90638.2266 - val_loss: 13706494976.0000 - val_mae: 70772.6484\n",
      "Epoch 33/50\n",
      "\u001b[1m487/487\u001b[0m \u001b[32m━━━━━━━━━━━━━━━━━━━━\u001b[0m\u001b[37m\u001b[0m \u001b[1m0s\u001b[0m 939us/step - loss: 19774408704.0000 - mae: 91738.7031 - val_loss: 14391666688.0000 - val_mae: 73015.0078\n",
      "Epoch 34/50\n",
      "\u001b[1m487/487\u001b[0m \u001b[32m━━━━━━━━━━━━━━━━━━━━\u001b[0m\u001b[37m\u001b[0m \u001b[1m0s\u001b[0m 971us/step - loss: 19880196096.0000 - mae: 90920.2812 - val_loss: 13192236032.0000 - val_mae: 69688.8906\n",
      "Epoch 35/50\n",
      "\u001b[1m487/487\u001b[0m \u001b[32m━━━━━━━━━━━━━━━━━━━━\u001b[0m\u001b[37m\u001b[0m \u001b[1m1s\u001b[0m 1ms/step - loss: 18494214144.0000 - mae: 91966.2422 - val_loss: 13434407936.0000 - val_mae: 71026.0469\n",
      "Epoch 36/50\n",
      "\u001b[1m487/487\u001b[0m \u001b[32m━━━━━━━━━━━━━━━━━━━━\u001b[0m\u001b[37m\u001b[0m \u001b[1m0s\u001b[0m 957us/step - loss: 17903591424.0000 - mae: 89830.2109 - val_loss: 14379676672.0000 - val_mae: 73272.2812\n",
      "Epoch 37/50\n",
      "\u001b[1m487/487\u001b[0m \u001b[32m━━━━━━━━━━━━━━━━━━━━\u001b[0m\u001b[37m\u001b[0m \u001b[1m1s\u001b[0m 1ms/step - loss: 18501494784.0000 - mae: 92066.8594 - val_loss: 13629765632.0000 - val_mae: 70027.0234\n",
      "Epoch 38/50\n",
      "\u001b[1m487/487\u001b[0m \u001b[32m━━━━━━━━━━━━━━━━━━━━\u001b[0m\u001b[37m\u001b[0m \u001b[1m0s\u001b[0m 938us/step - loss: 18127118336.0000 - mae: 90504.2812 - val_loss: 14182441984.0000 - val_mae: 70827.8750\n",
      "Epoch 39/50\n",
      "\u001b[1m487/487\u001b[0m \u001b[32m━━━━━━━━━━━━━━━━━━━━\u001b[0m\u001b[37m\u001b[0m \u001b[1m0s\u001b[0m 940us/step - loss: 23480139776.0000 - mae: 93939.5469 - val_loss: 14138202112.0000 - val_mae: 71254.6719\n",
      "Epoch 40/50\n",
      "\u001b[1m487/487\u001b[0m \u001b[32m━━━━━━━━━━━━━━━━━━━━\u001b[0m\u001b[37m\u001b[0m \u001b[1m0s\u001b[0m 958us/step - loss: 18148626432.0000 - mae: 90287.2578 - val_loss: 13871188992.0000 - val_mae: 71465.3750\n",
      "Epoch 41/50\n",
      "\u001b[1m487/487\u001b[0m \u001b[32m━━━━━━━━━━━━━━━━━━━━\u001b[0m\u001b[37m\u001b[0m \u001b[1m0s\u001b[0m 985us/step - loss: 20450293760.0000 - mae: 93608.1875 - val_loss: 14162974720.0000 - val_mae: 72887.5312\n",
      "Epoch 42/50\n",
      "\u001b[1m487/487\u001b[0m \u001b[32m━━━━━━━━━━━━━━━━━━━━\u001b[0m\u001b[37m\u001b[0m \u001b[1m0s\u001b[0m 937us/step - loss: 18774376448.0000 - mae: 90391.2734 - val_loss: 13794959360.0000 - val_mae: 70238.3750\n",
      "Epoch 43/50\n",
      "\u001b[1m487/487\u001b[0m \u001b[32m━━━━━━━━━━━━━━━━━━━━\u001b[0m\u001b[37m\u001b[0m \u001b[1m1s\u001b[0m 1ms/step - loss: 17427658752.0000 - mae: 89676.5391 - val_loss: 14139327488.0000 - val_mae: 71069.7266\n",
      "Epoch 44/50\n",
      "\u001b[1m487/487\u001b[0m \u001b[32m━━━━━━━━━━━━━━━━━━━━\u001b[0m\u001b[37m\u001b[0m \u001b[1m0s\u001b[0m 952us/step - loss: 18161987584.0000 - mae: 90126.5469 - val_loss: 13834986496.0000 - val_mae: 71037.9297\n",
      "Epoch 45/50\n",
      "\u001b[1m487/487\u001b[0m \u001b[32m━━━━━━━━━━━━━━━━━━━━\u001b[0m\u001b[37m\u001b[0m \u001b[1m0s\u001b[0m 940us/step - loss: 18914996224.0000 - mae: 90737.3438 - val_loss: 13812282368.0000 - val_mae: 69995.0781\n",
      "Epoch 46/50\n",
      "\u001b[1m487/487\u001b[0m \u001b[32m━━━━━━━━━━━━━━━━━━━━\u001b[0m\u001b[37m\u001b[0m \u001b[1m0s\u001b[0m 965us/step - loss: 16800956416.0000 - mae: 86990.8047 - val_loss: 13911890944.0000 - val_mae: 72567.1719\n",
      "Epoch 47/50\n",
      "\u001b[1m487/487\u001b[0m \u001b[32m━━━━━━━━━━━━━━━━━━━━\u001b[0m\u001b[37m\u001b[0m \u001b[1m0s\u001b[0m 943us/step - loss: 16377553920.0000 - mae: 87483.9219 - val_loss: 13151593472.0000 - val_mae: 69202.8438\n",
      "Epoch 48/50\n",
      "\u001b[1m487/487\u001b[0m \u001b[32m━━━━━━━━━━━━━━━━━━━━\u001b[0m\u001b[37m\u001b[0m \u001b[1m1s\u001b[0m 1ms/step - loss: 17233760256.0000 - mae: 89170.0156 - val_loss: 13561468928.0000 - val_mae: 69702.8750\n",
      "Epoch 49/50\n",
      "\u001b[1m487/487\u001b[0m \u001b[32m━━━━━━━━━━━━━━━━━━━━\u001b[0m\u001b[37m\u001b[0m \u001b[1m0s\u001b[0m 959us/step - loss: 16662077440.0000 - mae: 86882.2422 - val_loss: 13409454080.0000 - val_mae: 69324.9219\n",
      "Epoch 50/50\n",
      "\u001b[1m487/487\u001b[0m \u001b[32m━━━━━━━━━━━━━━━━━━━━\u001b[0m\u001b[37m\u001b[0m \u001b[1m0s\u001b[0m 960us/step - loss: 17951827968.0000 - mae: 89985.5312 - val_loss: 13643796480.0000 - val_mae: 70280.0703\n"
     ]
    }
   ],
   "source": [
    "history = model.fit(\n",
    "    X_train,\n",
    "    y_train,\n",
    "    epochs=50,\n",
    "    batch_size=32,\n",
    "    validation_split=0.1,\n",
    "    verbose=1\n",
    ")"
   ]
  },
  {
   "cell_type": "code",
   "execution_count": 21,
   "metadata": {},
   "outputs": [
    {
     "name": "stdout",
     "output_type": "stream",
     "text": [
      "\u001b[1m136/136\u001b[0m \u001b[32m━━━━━━━━━━━━━━━━━━━━\u001b[0m\u001b[37m\u001b[0m \u001b[1m0s\u001b[0m 651us/step - loss: 16531460096.0000 - mae: 74763.2422\n",
      "테스트 손실 (MSE): 17322418176.0\n",
      "테스트 MAE: 74867.296875\n",
      "\u001b[1m136/136\u001b[0m \u001b[32m━━━━━━━━━━━━━━━━━━━━\u001b[0m\u001b[37m\u001b[0m \u001b[1m0s\u001b[0m 686us/step\n"
     ]
    }
   ],
   "source": [
    "# 테스트 데이터로 평가\n",
    "loss, mae = model.evaluate(X_test, y_test)\n",
    "print(\"테스트 손실 (MSE):\", loss)\n",
    "print(\"테스트 MAE:\", mae)\n",
    "\n",
    "# 예측\n",
    "y_pred = model.predict(X_test)"
   ]
  },
  {
   "cell_type": "code",
   "execution_count": 22,
   "metadata": {},
   "outputs": [
    {
     "data": {
      "image/png": "[encoded data removed]",
      "text/plain": [
       "<Figure size 600x600 with 1 Axes>"
      ]
     },
     "metadata": {},
     "output_type": "display_data"
    }
   ],
   "source": [
    "import matplotlib.pyplot as plt\n",
    "import matplotlib.font_manager as fm\n",
    "import platform\n",
    "\n",
    "# 한글 폰트 설정\n",
    "if platform.system() == 'Darwin':  # macOS\n",
    "    plt.rcParams['font.family'] = 'AppleGothic'\n",
    "elif platform.system() == 'Windows':  # Windows\n",
    "    plt.rcParams['font.family'] = 'Malgun Gothic'\n",
    "else:  # Linux (colab 등)\n",
    "    plt.rcParams['font.family'] = 'NanumGothic'\n",
    "\n",
    "# 마이너스 깨짐 방지\n",
    "plt.rcParams['axes.unicode_minus'] = False\n",
    "\n",
    "plt.figure(figsize=(6,6))\n",
    "plt.scatter(y_test, y_pred, alpha=0.3)\n",
    "plt.xlabel(\"실제 집값\")\n",
    "plt.ylabel(\"예측 집값\")\n",
    "plt.title(\"예측 vs 실제\")\n",
    "plt.plot([y_test.min(), y_test.max()], [y_test.min(), y_test.max()], 'r--')  # 기준선\n",
    "plt.grid()\n",
    "plt.show()"
   ]
  },
  {
   "cell_type": "code",
   "execution_count": 13,
   "metadata": {},
   "outputs": [
    {
     "name": "stdout",
     "output_type": "stream",
     "text": [
      "\u001b[1m136/136\u001b[0m \u001b[32m━━━━━━━━━━━━━━━━━━━━\u001b[0m\u001b[37m\u001b[0m \u001b[1m0s\u001b[0m 434us/step\n"
     ]
    },
    {
     "name": "stderr",
     "output_type": "stream",
     "text": [
      "/var/folders/xm/9m5jkr551jxg7scv_lxlytdm0000gn/T/ipykernel_66113/1178186799.py:8: RuntimeWarning: overflow encountered in expm1\n",
      "  y_pred = np.expm1(y_pred_log)  # log1p의 역변환\n"
     ]
    }
   ],
   "source": [
    "import numpy as np\n",
    "\n",
    "# 전처리 전 price 로그 변환\n",
    "df[\"price\"] = np.log1p(df[\"price\"])  # log(1 + price)\n",
    "\n",
    "# 모델 훈련 후 예측값 역변환\n",
    "y_pred_log = model.predict(X_test)\n",
    "y_pred = np.expm1(y_pred_log)  # log1p의 역변환"
   ]
  },
  {
   "cell_type": "code",
   "execution_count": null,
   "metadata": {},
   "outputs": [
    {
     "name": "stdout",
     "output_type": "stream",
     "text": [
      "MAE: 74,867 원 → 평균 집값 대비 13.86% 오차\n",
      "RMSE: 131,615 원 → 평균 집값 대비 24.37% 오차\n"
     ]
    }
   ],
   "source": [
    "import numpy as np\n",
    "\n",
    "# 1. 평가 지표 (이미 모델에서 계산된 결과라고 가정)\n",
    "mae = 74867.29\n",
    "mse = 17322418176.0\n",
    "\n",
    "# 2. RMSE 계산\n",
    "rmse = np.sqrt(mse)\n",
    "\n",
    "# 3. 실제 집값의 평균 계산 (전처리 전 데이터에서!)\n",
    "df_raw = pd.read_csv(\"kc_house_data (1).csv\")  # 원본 데이터\n",
    "price_mean = df_raw[\"price\"].mean()\n",
    "\n",
    "# 4. 퍼센트 오차율 계산\n",
    "mae_percent = (mae / price_mean) * 100\n",
    "rmse_percent = (rmse / price_mean) * 100\n",
    "\n",
    "# 5. 출력\n",
    "print(f\"MAE: {mae:,.0f} 원 → 평균 집값 대비 {mae_percent:.2f}% 오차\")\n",
    "print(f\"RMSE: {rmse:,.0f} 원 → 평균 집값 대비 {rmse_percent:.2f}% 오차\")"
   ]
  },
  {
   "cell_type": "code",
   "execution_count": null,
   "metadata": {},
   "outputs": [],
   "source": [
    "#1. kc_house_data.csv 파일 로드 및 데이터 확인\n",
    "#2. id 열 제거 (예측에 불필요한 식별자)\n",
    "#3. date 열을 datetime 타입으로 변환 후 year, month 열 생성\n",
    "#4. 원래의 date 열은 제거\n",
    "#5. zipcode 열을 문자열로 변환 후 One-Hot Encoding 수행\n",
    "#6#. yr_renovated 열을 이진화하여 renovated 열 생성, 원래 열 제거\n",
    "#7. price(타깃값)에 로그 변환 적용 (log1p) → 고가 주택 분포 안정화\n",
    "#8. 기본 전처리 함수로 X/y 분리, 스케일링(StandardScaler), 학습/테스트 데이터 분할\n",
    "#9. MLP 기반 딥러닝 회귀 모델 설계 (은닉층 + Dropout + BatchNormalization)\n",
    "#10. 모델 학습 (validation_split 포함)\n",
    "#11. 테스트셋에 대한 MSE/MAE 평가 수행\n",
    "#12. 예측 결과를 expm1으로 역변환하여 실제 단위로 복원\n",
    "#13. 예측값 vs 실제값 시각화 → 전체 흐름의 성능 확인\n",
    "#14. 모델 성능 개선 방향 도출: 로그 변환, 모델 구조 강화, 피처 엔지니어링"
   ]
  },
  {
   "cell_type": "code",
   "execution_count": 23,
   "metadata": {},
   "outputs": [],
   "source": [
    "df = pd.read_csv(\"heart (1).csv\")  # 1. 데이터 불러오기\n",
    "df = pd.get_dummies(df, columns=[\"cp\", \"restecg\", \"slope\", \"thal\"])\n",
    "X_train, X_test, y_train, y_test, scaler = preprocess_data(  # 7. 기본 전처리 (결측치 제거, 분할, 스케일링)\n",
    "    df,\n",
    "    label_column=\"target\",\n",
    "    test_size=0.2,\n",
    "    scale=True,\n",
    "    random_state=42\n",
    ")"
   ]
  },
  {
   "cell_type": "code",
   "execution_count": 24,
   "metadata": {},
   "outputs": [
    {
     "name": "stdout",
     "output_type": "stream",
     "text": [
      "Epoch 1/50\n"
     ]
    },
    {
     "name": "stderr",
     "output_type": "stream",
     "text": [
      "/opt/anaconda3/envs/ai_env/lib/python3.10/site-packages/keras/src/layers/core/dense.py:87: UserWarning: Do not pass an `input_shape`/`input_dim` argument to a layer. When using Sequential models, prefer using an `Input(shape)` object as the first layer in the model instead.\n",
      "  super().__init__(activity_regularizer=activity_regularizer, **kwargs)\n"
     ]
    },
    {
     "name": "stdout",
     "output_type": "stream",
     "text": [
      "\u001b[1m14/14\u001b[0m \u001b[32m━━━━━━━━━━━━━━━━━━━━\u001b[0m\u001b[37m\u001b[0m \u001b[1m1s\u001b[0m 12ms/step - accuracy: 0.6540 - loss: 0.6234 - val_accuracy: 0.8000 - val_loss: 0.5124\n",
      "Epoch 2/50\n",
      "\u001b[1m14/14\u001b[0m \u001b[32m━━━━━━━━━━━━━━━━━━━━\u001b[0m\u001b[37m\u001b[0m \u001b[1m0s\u001b[0m 4ms/step - accuracy: 0.7319 - loss: 0.5304 - val_accuracy: 0.8000 - val_loss: 0.4550\n",
      "Epoch 3/50\n",
      "\u001b[1m14/14\u001b[0m \u001b[32m━━━━━━━━━━━━━━━━━━━━\u001b[0m\u001b[37m\u001b[0m \u001b[1m0s\u001b[0m 8ms/step - accuracy: 0.8213 - loss: 0.4390 - val_accuracy: 0.8400 - val_loss: 0.4208\n",
      "Epoch 4/50\n",
      "\u001b[1m14/14\u001b[0m \u001b[32m━━━━━━━━━━━━━━━━━━━━\u001b[0m\u001b[37m\u001b[0m \u001b[1m0s\u001b[0m 5ms/step - accuracy: 0.8055 - loss: 0.4669 - val_accuracy: 0.8400 - val_loss: 0.3986\n",
      "Epoch 5/50\n",
      "\u001b[1m14/14\u001b[0m \u001b[32m━━━━━━━━━━━━━━━━━━━━\u001b[0m\u001b[37m\u001b[0m \u001b[1m0s\u001b[0m 5ms/step - accuracy: 0.8497 - loss: 0.3827 - val_accuracy: 0.8400 - val_loss: 0.3817\n",
      "Epoch 6/50\n",
      "\u001b[1m14/14\u001b[0m \u001b[32m━━━━━━━━━━━━━━━━━━━━\u001b[0m\u001b[37m\u001b[0m \u001b[1m0s\u001b[0m 5ms/step - accuracy: 0.8411 - loss: 0.3789 - val_accuracy: 0.8400 - val_loss: 0.3764\n",
      "Epoch 7/50\n",
      "\u001b[1m14/14\u001b[0m \u001b[32m━━━━━━━━━━━━━━━━━━━━\u001b[0m\u001b[37m\u001b[0m \u001b[1m0s\u001b[0m 5ms/step - accuracy: 0.8073 - loss: 0.4257 - val_accuracy: 0.8400 - val_loss: 0.3712\n",
      "Epoch 8/50\n",
      "\u001b[1m14/14\u001b[0m \u001b[32m━━━━━━━━━━━━━━━━━━━━\u001b[0m\u001b[37m\u001b[0m \u001b[1m0s\u001b[0m 4ms/step - accuracy: 0.8219 - loss: 0.3640 - val_accuracy: 0.8800 - val_loss: 0.3625\n",
      "Epoch 9/50\n",
      "\u001b[1m14/14\u001b[0m \u001b[32m━━━━━━━━━━━━━━━━━━━━\u001b[0m\u001b[37m\u001b[0m \u001b[1m0s\u001b[0m 4ms/step - accuracy: 0.8568 - loss: 0.3450 - val_accuracy: 0.8800 - val_loss: 0.3563\n",
      "Epoch 10/50\n",
      "\u001b[1m14/14\u001b[0m \u001b[32m━━━━━━━━━━━━━━━━━━━━\u001b[0m\u001b[37m\u001b[0m \u001b[1m0s\u001b[0m 4ms/step - accuracy: 0.8292 - loss: 0.4018 - val_accuracy: 0.8800 - val_loss: 0.3527\n",
      "Epoch 11/50\n",
      "\u001b[1m14/14\u001b[0m \u001b[32m━━━━━━━━━━━━━━━━━━━━\u001b[0m\u001b[37m\u001b[0m \u001b[1m0s\u001b[0m 4ms/step - accuracy: 0.8504 - loss: 0.3531 - val_accuracy: 0.8800 - val_loss: 0.3516\n",
      "Epoch 12/50\n",
      "\u001b[1m14/14\u001b[0m \u001b[32m━━━━━━━━━━━━━━━━━━━━\u001b[0m\u001b[37m\u001b[0m \u001b[1m0s\u001b[0m 4ms/step - accuracy: 0.8351 - loss: 0.3662 - val_accuracy: 0.8800 - val_loss: 0.3575\n",
      "Epoch 13/50\n",
      "\u001b[1m14/14\u001b[0m \u001b[32m━━━━━━━━━━━━━━━━━━━━\u001b[0m\u001b[37m\u001b[0m \u001b[1m0s\u001b[0m 4ms/step - accuracy: 0.8822 - loss: 0.2888 - val_accuracy: 0.8800 - val_loss: 0.3567\n",
      "Epoch 14/50\n",
      "\u001b[1m14/14\u001b[0m \u001b[32m━━━━━━━━━━━━━━━━━━━━\u001b[0m\u001b[37m\u001b[0m \u001b[1m0s\u001b[0m 4ms/step - accuracy: 0.8723 - loss: 0.2879 - val_accuracy: 0.8800 - val_loss: 0.3593\n",
      "Epoch 15/50\n",
      "\u001b[1m14/14\u001b[0m \u001b[32m━━━━━━━━━━━━━━━━━━━━\u001b[0m\u001b[37m\u001b[0m \u001b[1m0s\u001b[0m 4ms/step - accuracy: 0.8458 - loss: 0.3160 - val_accuracy: 0.8800 - val_loss: 0.3618\n",
      "Epoch 16/50\n",
      "\u001b[1m14/14\u001b[0m \u001b[32m━━━━━━━━━━━━━━━━━━━━\u001b[0m\u001b[37m\u001b[0m \u001b[1m0s\u001b[0m 4ms/step - accuracy: 0.8755 - loss: 0.2771 - val_accuracy: 0.8800 - val_loss: 0.3665\n",
      "Epoch 17/50\n",
      "\u001b[1m14/14\u001b[0m \u001b[32m━━━━━━━━━━━━━━━━━━━━\u001b[0m\u001b[37m\u001b[0m \u001b[1m0s\u001b[0m 5ms/step - accuracy: 0.8870 - loss: 0.2803 - val_accuracy: 0.8800 - val_loss: 0.3616\n",
      "Epoch 18/50\n",
      "\u001b[1m14/14\u001b[0m \u001b[32m━━━━━━━━━━━━━━━━━━━━\u001b[0m\u001b[37m\u001b[0m \u001b[1m0s\u001b[0m 4ms/step - accuracy: 0.9308 - loss: 0.2545 - val_accuracy: 0.8800 - val_loss: 0.3613\n",
      "Epoch 19/50\n",
      "\u001b[1m14/14\u001b[0m \u001b[32m━━━━━━━━━━━━━━━━━━━━\u001b[0m\u001b[37m\u001b[0m \u001b[1m0s\u001b[0m 4ms/step - accuracy: 0.8717 - loss: 0.3027 - val_accuracy: 0.8800 - val_loss: 0.3690\n",
      "Epoch 20/50\n",
      "\u001b[1m14/14\u001b[0m \u001b[32m━━━━━━━━━━━━━━━━━━━━\u001b[0m\u001b[37m\u001b[0m \u001b[1m0s\u001b[0m 4ms/step - accuracy: 0.8646 - loss: 0.2953 - val_accuracy: 0.8800 - val_loss: 0.3772\n",
      "Epoch 21/50\n",
      "\u001b[1m14/14\u001b[0m \u001b[32m━━━━━━━━━━━━━━━━━━━━\u001b[0m\u001b[37m\u001b[0m \u001b[1m0s\u001b[0m 4ms/step - accuracy: 0.9157 - loss: 0.2228 - val_accuracy: 0.8800 - val_loss: 0.3803\n",
      "Epoch 22/50\n",
      "\u001b[1m14/14\u001b[0m \u001b[32m━━━━━━━━━━━━━━━━━━━━\u001b[0m\u001b[37m\u001b[0m \u001b[1m0s\u001b[0m 6ms/step - accuracy: 0.8769 - loss: 0.2811 - val_accuracy: 0.8800 - val_loss: 0.3823\n",
      "Epoch 23/50\n",
      "\u001b[1m14/14\u001b[0m \u001b[32m━━━━━━━━━━━━━━━━━━━━\u001b[0m\u001b[37m\u001b[0m \u001b[1m0s\u001b[0m 4ms/step - accuracy: 0.8966 - loss: 0.2593 - val_accuracy: 0.8800 - val_loss: 0.3867\n",
      "Epoch 24/50\n",
      "\u001b[1m14/14\u001b[0m \u001b[32m━━━━━━━━━━━━━━━━━━━━\u001b[0m\u001b[37m\u001b[0m \u001b[1m0s\u001b[0m 4ms/step - accuracy: 0.9019 - loss: 0.1938 - val_accuracy: 0.8800 - val_loss: 0.3930\n",
      "Epoch 25/50\n",
      "\u001b[1m14/14\u001b[0m \u001b[32m━━━━━━━━━━━━━━━━━━━━\u001b[0m\u001b[37m\u001b[0m \u001b[1m0s\u001b[0m 4ms/step - accuracy: 0.8844 - loss: 0.2718 - val_accuracy: 0.8800 - val_loss: 0.3921\n",
      "Epoch 26/50\n",
      "\u001b[1m14/14\u001b[0m \u001b[32m━━━━━━━━━━━━━━━━━━━━\u001b[0m\u001b[37m\u001b[0m \u001b[1m0s\u001b[0m 7ms/step - accuracy: 0.9036 - loss: 0.2588 - val_accuracy: 0.8800 - val_loss: 0.3930\n",
      "Epoch 27/50\n",
      "\u001b[1m14/14\u001b[0m \u001b[32m━━━━━━━━━━━━━━━━━━━━\u001b[0m\u001b[37m\u001b[0m \u001b[1m0s\u001b[0m 4ms/step - accuracy: 0.9268 - loss: 0.2284 - val_accuracy: 0.8800 - val_loss: 0.3975\n",
      "Epoch 28/50\n",
      "\u001b[1m14/14\u001b[0m \u001b[32m━━━━━━━━━━━━━━━━━━━━\u001b[0m\u001b[37m\u001b[0m \u001b[1m0s\u001b[0m 5ms/step - accuracy: 0.9345 - loss: 0.1928 - val_accuracy: 0.8800 - val_loss: 0.4017\n",
      "Epoch 29/50\n",
      "\u001b[1m14/14\u001b[0m \u001b[32m━━━━━━━━━━━━━━━━━━━━\u001b[0m\u001b[37m\u001b[0m \u001b[1m0s\u001b[0m 4ms/step - accuracy: 0.9183 - loss: 0.2122 - val_accuracy: 0.8800 - val_loss: 0.4059\n",
      "Epoch 30/50\n",
      "\u001b[1m14/14\u001b[0m \u001b[32m━━━━━━━━━━━━━━━━━━━━\u001b[0m\u001b[37m\u001b[0m \u001b[1m0s\u001b[0m 4ms/step - accuracy: 0.8668 - loss: 0.2842 - val_accuracy: 0.8800 - val_loss: 0.4120\n",
      "Epoch 31/50\n",
      "\u001b[1m14/14\u001b[0m \u001b[32m━━━━━━━━━━━━━━━━━━━━\u001b[0m\u001b[37m\u001b[0m \u001b[1m0s\u001b[0m 4ms/step - accuracy: 0.9280 - loss: 0.2015 - val_accuracy: 0.8800 - val_loss: 0.4161\n",
      "Epoch 32/50\n",
      "\u001b[1m14/14\u001b[0m \u001b[32m━━━━━━━━━━━━━━━━━━━━\u001b[0m\u001b[37m\u001b[0m \u001b[1m0s\u001b[0m 4ms/step - accuracy: 0.9208 - loss: 0.2459 - val_accuracy: 0.8800 - val_loss: 0.4158\n",
      "Epoch 33/50\n",
      "\u001b[1m14/14\u001b[0m \u001b[32m━━━━━━━━━━━━━━━━━━━━\u001b[0m\u001b[37m\u001b[0m \u001b[1m0s\u001b[0m 4ms/step - accuracy: 0.9261 - loss: 0.1746 - val_accuracy: 0.8400 - val_loss: 0.4197\n",
      "Epoch 34/50\n",
      "\u001b[1m14/14\u001b[0m \u001b[32m━━━━━━━━━━━━━━━━━━━━\u001b[0m\u001b[37m\u001b[0m \u001b[1m0s\u001b[0m 4ms/step - accuracy: 0.9091 - loss: 0.1955 - val_accuracy: 0.8400 - val_loss: 0.4193\n",
      "Epoch 35/50\n",
      "\u001b[1m14/14\u001b[0m \u001b[32m━━━━━━━━━━━━━━━━━━━━\u001b[0m\u001b[37m\u001b[0m \u001b[1m0s\u001b[0m 4ms/step - accuracy: 0.9497 - loss: 0.1800 - val_accuracy: 0.8400 - val_loss: 0.4191\n",
      "Epoch 36/50\n",
      "\u001b[1m14/14\u001b[0m \u001b[32m━━━━━━━━━━━━━━━━━━━━\u001b[0m\u001b[37m\u001b[0m \u001b[1m0s\u001b[0m 4ms/step - accuracy: 0.9125 - loss: 0.1898 - val_accuracy: 0.8400 - val_loss: 0.4317\n",
      "Epoch 37/50\n",
      "\u001b[1m14/14\u001b[0m \u001b[32m━━━━━━━━━━━━━━━━━━━━\u001b[0m\u001b[37m\u001b[0m \u001b[1m0s\u001b[0m 4ms/step - accuracy: 0.9265 - loss: 0.1966 - val_accuracy: 0.8400 - val_loss: 0.4388\n",
      "Epoch 38/50\n",
      "\u001b[1m14/14\u001b[0m \u001b[32m━━━━━━━━━━━━━━━━━━━━\u001b[0m\u001b[37m\u001b[0m \u001b[1m0s\u001b[0m 4ms/step - accuracy: 0.9375 - loss: 0.2020 - val_accuracy: 0.8400 - val_loss: 0.4432\n",
      "Epoch 39/50\n",
      "\u001b[1m14/14\u001b[0m \u001b[32m━━━━━━━━━━━━━━━━━━━━\u001b[0m\u001b[37m\u001b[0m \u001b[1m0s\u001b[0m 4ms/step - accuracy: 0.9458 - loss: 0.1721 - val_accuracy: 0.8400 - val_loss: 0.4366\n",
      "Epoch 40/50\n",
      "\u001b[1m14/14\u001b[0m \u001b[32m━━━━━━━━━━━━━━━━━━━━\u001b[0m\u001b[37m\u001b[0m \u001b[1m0s\u001b[0m 5ms/step - accuracy: 0.8916 - loss: 0.2065 - val_accuracy: 0.8400 - val_loss: 0.4374\n",
      "Epoch 41/50\n",
      "\u001b[1m14/14\u001b[0m \u001b[32m━━━━━━━━━━━━━━━━━━━━\u001b[0m\u001b[37m\u001b[0m \u001b[1m0s\u001b[0m 4ms/step - accuracy: 0.9316 - loss: 0.1857 - val_accuracy: 0.8400 - val_loss: 0.4434\n",
      "Epoch 42/50\n",
      "\u001b[1m14/14\u001b[0m \u001b[32m━━━━━━━━━━━━━━━━━━━━\u001b[0m\u001b[37m\u001b[0m \u001b[1m0s\u001b[0m 4ms/step - accuracy: 0.9393 - loss: 0.1613 - val_accuracy: 0.8400 - val_loss: 0.4466\n",
      "Epoch 43/50\n",
      "\u001b[1m14/14\u001b[0m \u001b[32m━━━━━━━━━━━━━━━━━━━━\u001b[0m\u001b[37m\u001b[0m \u001b[1m0s\u001b[0m 4ms/step - accuracy: 0.9286 - loss: 0.1996 - val_accuracy: 0.8400 - val_loss: 0.4506\n",
      "Epoch 44/50\n",
      "\u001b[1m14/14\u001b[0m \u001b[32m━━━━━━━━━━━━━━━━━━━━\u001b[0m\u001b[37m\u001b[0m \u001b[1m0s\u001b[0m 4ms/step - accuracy: 0.9455 - loss: 0.1924 - val_accuracy: 0.8400 - val_loss: 0.4482\n",
      "Epoch 45/50\n",
      "\u001b[1m14/14\u001b[0m \u001b[32m━━━━━━━━━━━━━━━━━━━━\u001b[0m\u001b[37m\u001b[0m \u001b[1m0s\u001b[0m 4ms/step - accuracy: 0.9281 - loss: 0.1686 - val_accuracy: 0.8400 - val_loss: 0.4514\n",
      "Epoch 46/50\n",
      "\u001b[1m14/14\u001b[0m \u001b[32m━━━━━━━━━━━━━━━━━━━━\u001b[0m\u001b[37m\u001b[0m \u001b[1m0s\u001b[0m 4ms/step - accuracy: 0.9214 - loss: 0.1781 - val_accuracy: 0.8400 - val_loss: 0.4512\n",
      "Epoch 47/50\n",
      "\u001b[1m14/14\u001b[0m \u001b[32m━━━━━━━━━━━━━━━━━━━━\u001b[0m\u001b[37m\u001b[0m \u001b[1m0s\u001b[0m 7ms/step - accuracy: 0.9338 - loss: 0.1416 - val_accuracy: 0.8400 - val_loss: 0.4532\n",
      "Epoch 48/50\n",
      "\u001b[1m14/14\u001b[0m \u001b[32m━━━━━━━━━━━━━━━━━━━━\u001b[0m\u001b[37m\u001b[0m \u001b[1m0s\u001b[0m 4ms/step - accuracy: 0.9175 - loss: 0.1868 - val_accuracy: 0.8000 - val_loss: 0.4653\n",
      "Epoch 49/50\n",
      "\u001b[1m14/14\u001b[0m \u001b[32m━━━━━━━━━━━━━━━━━━━━\u001b[0m\u001b[37m\u001b[0m \u001b[1m0s\u001b[0m 4ms/step - accuracy: 0.9583 - loss: 0.1644 - val_accuracy: 0.8400 - val_loss: 0.4662\n",
      "Epoch 50/50\n",
      "\u001b[1m14/14\u001b[0m \u001b[32m━━━━━━━━━━━━━━━━━━━━\u001b[0m\u001b[37m\u001b[0m \u001b[1m0s\u001b[0m 4ms/step - accuracy: 0.9489 - loss: 0.1383 - val_accuracy: 0.8400 - val_loss: 0.4676\n"
     ]
    }
   ],
   "source": [
    "import tensorflow as tf\n",
    "from tensorflow.keras.models import Sequential\n",
    "from tensorflow.keras.layers import Dense, Dropout\n",
    "\n",
    "# 1. 모델 설계\n",
    "model = Sequential()\n",
    "model.add(Dense(64, activation='relu', input_shape=(X_train.shape[1],)))\n",
    "model.add(Dropout(0.3))\n",
    "model.add(Dense(32, activation='relu'))\n",
    "model.add(Dense(1, activation='sigmoid'))  # 이진 분류용 출력층\n",
    "\n",
    "# 2. 컴파일\n",
    "model.compile(optimizer='adam', loss='binary_crossentropy', metrics=['accuracy'])\n",
    "\n",
    "# 3. 학습\n",
    "history = model.fit(\n",
    "    X_train, y_train,\n",
    "    epochs=50,\n",
    "    batch_size=16,\n",
    "    validation_split=0.1,\n",
    "    verbose=1\n",
    ")"
   ]
  },
  {
   "cell_type": "code",
   "execution_count": 25,
   "metadata": {},
   "outputs": [
    {
     "name": "stdout",
     "output_type": "stream",
     "text": [
      "\u001b[1m2/2\u001b[0m \u001b[32m━━━━━━━━━━━━━━━━━━━━\u001b[0m\u001b[37m\u001b[0m \u001b[1m0s\u001b[0m 13ms/step - accuracy: 0.8287 - loss: 0.5999\n",
      "Test Loss: 0.5318\n",
      "Test Accuracy: 0.8525\n"
     ]
    }
   ],
   "source": [
    "loss, acc = model.evaluate(X_test, y_test)\n",
    "print(f\"Test Loss: {loss:.4f}\")\n",
    "print(f\"Test Accuracy: {acc:.4f}\")"
   ]
  },
  {
   "cell_type": "code",
   "execution_count": 26,
   "metadata": {},
   "outputs": [
    {
     "name": "stdout",
     "output_type": "stream",
     "text": [
      "\u001b[1m2/2\u001b[0m \u001b[32m━━━━━━━━━━━━━━━━━━━━\u001b[0m\u001b[37m\u001b[0m \u001b[1m0s\u001b[0m 31ms/step\n",
      "[[25  4]\n",
      " [ 5 27]]\n",
      "              precision    recall  f1-score   support\n",
      "\n",
      "           0       0.83      0.86      0.85        29\n",
      "           1       0.87      0.84      0.86        32\n",
      "\n",
      "    accuracy                           0.85        61\n",
      "   macro avg       0.85      0.85      0.85        61\n",
      "weighted avg       0.85      0.85      0.85        61\n",
      "\n"
     ]
    }
   ],
   "source": [
    "from sklearn.metrics import confusion_matrix, classification_report\n",
    "\n",
    "# 예측 확률 → 0/1로 변환\n",
    "y_pred_proba = model.predict(X_test)\n",
    "y_pred = (y_pred_proba > 0.5).astype(int)\n",
    "\n",
    "# 평가 지표 출력\n",
    "print(confusion_matrix(y_test, y_pred))\n",
    "print(classification_report(y_test, y_pred))"
   ]
  },
  {
   "cell_type": "code",
   "execution_count": 27,
   "metadata": {},
   "outputs": [
    {
     "data": {
      "image/png": "[encoded data removed]",
      "text/plain": [
       "<Figure size 500x400 with 2 Axes>"
      ]
     },
     "metadata": {},
     "output_type": "display_data"
    }
   ],
   "source": [
    "import seaborn as sns\n",
    "import matplotlib.pyplot as plt\n",
    "from sklearn.metrics import confusion_matrix\n",
    "\n",
    "cm = confusion_matrix(y_test, y_pred)\n",
    "\n",
    "plt.figure(figsize=(5, 4))\n",
    "sns.heatmap(cm, annot=True, fmt=\"d\", cmap=\"Blues\", xticklabels=[\"No Disease\", \"Disease\"], yticklabels=[\"No Disease\", \"Disease\"])\n",
    "plt.xlabel(\"Predicted\")\n",
    "plt.ylabel(\"Actual\")\n",
    "plt.title(\"Confusion Matrix\")\n",
    "plt.show()"
   ]
  },
  {
   "cell_type": "code",
   "execution_count": null,
   "metadata": {},
   "outputs": [],
   "source": [
    "#1. CSV 파일 불러오기 (pd.read_csv)\n",
    "#2. 필요 시 범주형 열을 One-Hot 인코딩 (get_dummies)\n",
    "#3. 레이블(y)과 입력 피처(X) 분리\n",
    "#4. 입력 X에 대해 StandardScaler로 스케일링 적용\n",
    "#5. train_test_split으로 학습/테스트 데이터 분할 (stratify=y 권장)\n",
    "#6. Sequential로 MLP 기반 딥러닝 이진 분류 모델 설계\n",
    " #   - 출력층: 1개 뉴런 + sigmoid 활성화\n",
    "#    - 손실 함수: binary_crossentropy\n",
    "  #  - 평가 지표: accuracy\n",
    "#7. 모델 학습 (validation_split 포함)\n",
    "#8. 테스트셋 평가 (evaluate)\n",
    "#9. 예측 결과 확률 → 0.5 기준으로 0/1 이진화\n",
    "#10. confusion_matrix로 예측 정확도 분석\n",
    "#11. classification_report로 precision, recall, f1-score 확인\n",
    "#12. 혼동 행렬 시각화 (heatmap)\n",
    "#13. 필요 시 학습곡선, ROC curve, 과적합 여부 시각화"
   ]
  }
 ],
 "metadata": {
  "kernelspec": {
   "display_name": "ai_env",
   "language": "python",
   "name": "python3"
  },
  "language_info": {
   "codemirror_mode": {
    "name": "ipython",
    "version": 3
   },
   "file_extension": ".py",
   "mimetype": "text/x-python",
   "name": "python",
   "nbconvert_exporter": "python",
   "pygments_lexer": "ipython3",
   "version": "3.10.16"
  }
 },
 "nbformat": 4,
 "nbformat_minor": 2
}
