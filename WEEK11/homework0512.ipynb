{
 "cells": [
  {
   "cell_type": "code",
   "execution_count": 1,
   "id": "afd4fff1",
   "metadata": {},
   "outputs": [
    {
     "ename": "ModuleNotFoundError",
     "evalue": "No module named 'torchvision'",
     "output_type": "error",
     "traceback": [
      "\u001b[0;31m---------------------------------------------------------------------------\u001b[0m",
      "\u001b[0;31mModuleNotFoundError\u001b[0m                       Traceback (most recent call last)",
      "Cell \u001b[0;32mIn[1], line 2\u001b[0m\n\u001b[1;32m      1\u001b[0m \u001b[38;5;28;01mimport\u001b[39;00m \u001b[38;5;21;01mtorch\u001b[39;00m\n\u001b[0;32m----> 2\u001b[0m \u001b[38;5;28;01mimport\u001b[39;00m \u001b[38;5;21;01mtorchvision\u001b[39;00m\u001b[38;5;21;01m.\u001b[39;00m\u001b[38;5;21;01mdatasets\u001b[39;00m \u001b[38;5;28;01mas\u001b[39;00m \u001b[38;5;21;01mdsets\u001b[39;00m\n\u001b[1;32m      3\u001b[0m \u001b[38;5;28;01mimport\u001b[39;00m \u001b[38;5;21;01mtorchvision\u001b[39;00m\u001b[38;5;21;01m.\u001b[39;00m\u001b[38;5;21;01mtransforms\u001b[39;00m \u001b[38;5;28;01mas\u001b[39;00m \u001b[38;5;21;01mtransforms\u001b[39;00m\n\u001b[1;32m      4\u001b[0m \u001b[38;5;28;01mfrom\u001b[39;00m \u001b[38;5;21;01mtorch\u001b[39;00m\u001b[38;5;21;01m.\u001b[39;00m\u001b[38;5;21;01mutils\u001b[39;00m\u001b[38;5;21;01m.\u001b[39;00m\u001b[38;5;21;01mdata\u001b[39;00m \u001b[38;5;28;01mimport\u001b[39;00m DataLoader\n",
      "\u001b[0;31mModuleNotFoundError\u001b[0m: No module named 'torchvision'"
     ]
    }
   ],
   "source": [
    "import torch\n",
    "import torchvision.datasets as dsets\n",
    "import torchvision.transforms as transforms\n",
    "from torch.utils.data import DataLoader"
   ]
  },
  {
   "cell_type": "code",
   "execution_count": 2,
   "id": "253a561b",
   "metadata": {},
   "outputs": [
    {
     "name": "stdout",
     "output_type": "stream",
     "text": [
      "Collecting torchvision\n",
      "  Downloading torchvision-0.22.0-cp312-cp312-macosx_11_0_arm64.whl.metadata (6.1 kB)\n",
      "Requirement already satisfied: numpy in /opt/anaconda3/lib/python3.12/site-packages (from torchvision) (1.26.4)\n",
      "Requirement already satisfied: torch==2.7.0 in /opt/anaconda3/lib/python3.12/site-packages (from torchvision) (2.7.0)\n",
      "Requirement already satisfied: pillow!=8.3.*,>=5.3.0 in /opt/anaconda3/lib/python3.12/site-packages (from torchvision) (10.4.0)\n",
      "Requirement already satisfied: filelock in /opt/anaconda3/lib/python3.12/site-packages (from torch==2.7.0->torchvision) (3.13.1)\n",
      "Requirement already satisfied: typing-extensions>=4.10.0 in /opt/anaconda3/lib/python3.12/site-packages (from torch==2.7.0->torchvision) (4.11.0)\n",
      "Requirement already satisfied: setuptools in /opt/anaconda3/lib/python3.12/site-packages (from torch==2.7.0->torchvision) (75.1.0)\n",
      "Requirement already satisfied: sympy>=1.13.3 in /opt/anaconda3/lib/python3.12/site-packages (from torch==2.7.0->torchvision) (1.14.0)\n",
      "Requirement already satisfied: networkx in /opt/anaconda3/lib/python3.12/site-packages (from torch==2.7.0->torchvision) (3.3)\n",
      "Requirement already satisfied: jinja2 in /opt/anaconda3/lib/python3.12/site-packages (from torch==2.7.0->torchvision) (3.1.4)\n",
      "Requirement already satisfied: fsspec in /opt/anaconda3/lib/python3.12/site-packages (from torch==2.7.0->torchvision) (2024.6.1)\n",
      "Requirement already satisfied: mpmath<1.4,>=1.1.0 in /opt/anaconda3/lib/python3.12/site-packages (from sympy>=1.13.3->torch==2.7.0->torchvision) (1.3.0)\n",
      "Requirement already satisfied: MarkupSafe>=2.0 in /opt/anaconda3/lib/python3.12/site-packages (from jinja2->torch==2.7.0->torchvision) (2.1.3)\n",
      "Downloading torchvision-0.22.0-cp312-cp312-macosx_11_0_arm64.whl (1.9 MB)\n",
      "\u001b[2K   \u001b[90m━━━━━━━━━━━━━━━━━━━━━━━━━━━━━━━━━━━━━━━━\u001b[0m \u001b[32m1.9/1.9 MB\u001b[0m \u001b[31m7.3 MB/s\u001b[0m eta \u001b[36m0:00:00\u001b[0ma \u001b[36m0:00:01\u001b[0m\n",
      "\u001b[?25hInstalling collected packages: torchvision\n",
      "Successfully installed torchvision-0.22.0\n"
     ]
    }
   ],
   "source": [
    "!pip install torchvision"
   ]
  },
  {
   "cell_type": "code",
   "execution_count": 3,
   "id": "ad0dd051",
   "metadata": {},
   "outputs": [],
   "source": [
    "import torch\n",
    "import torchvision.datasets as dsets\n",
    "import torchvision.transforms as transforms\n",
    "from torch.utils.data import DataLoader"
   ]
  },
  {
   "cell_type": "code",
   "execution_count": 4,
   "id": "0bbe20ad",
   "metadata": {},
   "outputs": [],
   "source": [
    "batch_size = 100\n",
    "learning_rate = 0.01\n",
    "epoch = 10"
   ]
  },
  {
   "cell_type": "code",
   "execution_count": 5,
   "id": "c7b7e58e",
   "metadata": {},
   "outputs": [
    {
     "name": "stderr",
     "output_type": "stream",
     "text": [
      "100%|██████████| 9.91M/9.91M [00:02<00:00, 3.33MB/s]\n",
      "100%|██████████| 28.9k/28.9k [00:00<00:00, 152kB/s]\n",
      "100%|██████████| 1.65M/1.65M [00:01<00:00, 1.08MB/s]\n",
      "100%|██████████| 4.54k/4.54k [00:00<00:00, 2.94MB/s]\n"
     ]
    }
   ],
   "source": [
    "mnist_train = dsets.MNIST(root='MNIST_data/', train=True, transform=transforms.ToTensor(), download=True)\n",
    "mnist_test = dsets.MNIST(root='MNIST_data/', train=False, transform=transforms.ToTensor(), download=True)\n",
    "\n",
    "data_loader = DataLoader(dataset=mnist_train, batch_size=batch_size, shuffle=True)"
   ]
  },
  {
   "cell_type": "code",
   "execution_count": 6,
   "id": "5bb8a3a4",
   "metadata": {},
   "outputs": [],
   "source": [
    "model = torch.nn.Sequential(\n",
    "    torch.nn.Flatten(),\n",
    "    torch.nn.Linear(28*28, 256),\n",
    "    torch.nn.ReLU(),\n",
    "    torch.nn.Linear(256, 128),\n",
    "    torch.nn.ReLU(),\n",
    "    torch.nn.Linear(128, 10)\n",
    ")"
   ]
  },
  {
   "cell_type": "code",
   "execution_count": 7,
   "id": "86db9064",
   "metadata": {},
   "outputs": [],
   "source": [
    "loss = torch.nn.CrossEntropyLoss()\n",
    "optimizer = torch.optim.SGD(model.parameters(), lr=learning_rate)"
   ]
  },
  {
   "cell_type": "code",
   "execution_count": 8,
   "id": "6f60c4fa",
   "metadata": {},
   "outputs": [
    {
     "name": "stdout",
     "output_type": "stream",
     "text": [
      "Epoch: 1, Step: 0, Loss: 2.3099\n",
      "Epoch: 1, Step: 100, Loss: 2.2742\n",
      "Epoch: 1, Step: 200, Loss: 2.2044\n",
      "Epoch: 1, Step: 300, Loss: 2.1298\n",
      "Epoch: 1, Step: 400, Loss: 1.9709\n",
      "Epoch: 1, Step: 500, Loss: 1.7315\n",
      "Epoch: 2, Step: 0, Loss: 1.4939\n",
      "Epoch: 2, Step: 100, Loss: 1.1604\n",
      "Epoch: 2, Step: 200, Loss: 0.9468\n",
      "Epoch: 2, Step: 300, Loss: 0.8447\n",
      "Epoch: 2, Step: 400, Loss: 0.7137\n",
      "Epoch: 2, Step: 500, Loss: 0.5731\n",
      "Epoch: 3, Step: 0, Loss: 0.5998\n",
      "Epoch: 3, Step: 100, Loss: 0.5531\n",
      "Epoch: 3, Step: 200, Loss: 0.4878\n",
      "Epoch: 3, Step: 300, Loss: 0.6428\n",
      "Epoch: 3, Step: 400, Loss: 0.4676\n",
      "Epoch: 3, Step: 500, Loss: 0.4466\n",
      "Epoch: 4, Step: 0, Loss: 0.3453\n",
      "Epoch: 4, Step: 100, Loss: 0.5235\n",
      "Epoch: 4, Step: 200, Loss: 0.5095\n",
      "Epoch: 4, Step: 300, Loss: 0.3342\n",
      "Epoch: 4, Step: 400, Loss: 0.3295\n",
      "Epoch: 4, Step: 500, Loss: 0.3533\n",
      "Epoch: 5, Step: 0, Loss: 0.2631\n",
      "Epoch: 5, Step: 100, Loss: 0.3399\n",
      "Epoch: 5, Step: 200, Loss: 0.2993\n",
      "Epoch: 5, Step: 300, Loss: 0.3670\n",
      "Epoch: 5, Step: 400, Loss: 0.2979\n",
      "Epoch: 5, Step: 500, Loss: 0.4256\n",
      "Epoch: 6, Step: 0, Loss: 0.3511\n",
      "Epoch: 6, Step: 100, Loss: 0.4289\n",
      "Epoch: 6, Step: 200, Loss: 0.3620\n",
      "Epoch: 6, Step: 300, Loss: 0.2322\n",
      "Epoch: 6, Step: 400, Loss: 0.2949\n",
      "Epoch: 6, Step: 500, Loss: 0.5616\n",
      "Epoch: 7, Step: 0, Loss: 0.2206\n",
      "Epoch: 7, Step: 100, Loss: 0.3003\n",
      "Epoch: 7, Step: 200, Loss: 0.4549\n",
      "Epoch: 7, Step: 300, Loss: 0.2457\n",
      "Epoch: 7, Step: 400, Loss: 0.2488\n",
      "Epoch: 7, Step: 500, Loss: 0.3886\n",
      "Epoch: 8, Step: 0, Loss: 0.2724\n",
      "Epoch: 8, Step: 100, Loss: 0.1881\n",
      "Epoch: 8, Step: 200, Loss: 0.2544\n",
      "Epoch: 8, Step: 300, Loss: 0.2487\n",
      "Epoch: 8, Step: 400, Loss: 0.3335\n",
      "Epoch: 8, Step: 500, Loss: 0.3662\n",
      "Epoch: 9, Step: 0, Loss: 0.2476\n",
      "Epoch: 9, Step: 100, Loss: 0.2541\n",
      "Epoch: 9, Step: 200, Loss: 0.2604\n",
      "Epoch: 9, Step: 300, Loss: 0.2893\n",
      "Epoch: 9, Step: 400, Loss: 0.2436\n",
      "Epoch: 9, Step: 500, Loss: 0.2712\n",
      "Epoch: 10, Step: 0, Loss: 0.3001\n",
      "Epoch: 10, Step: 100, Loss: 0.1602\n",
      "Epoch: 10, Step: 200, Loss: 0.1976\n",
      "Epoch: 10, Step: 300, Loss: 0.2144\n",
      "Epoch: 10, Step: 400, Loss: 0.2829\n",
      "Epoch: 10, Step: 500, Loss: 0.2786\n"
     ]
    }
   ],
   "source": [
    "for i in range(epoch):\n",
    "    for j, [image, label] in enumerate(data_loader):\n",
    "        output = model(image)\n",
    "        cost = loss(output, label)\n",
    "\n",
    "        optimizer.zero_grad()\n",
    "        cost.backward()\n",
    "        optimizer.step()\n",
    "\n",
    "        if j % 100 == 0:\n",
    "            print(f'Epoch: {i+1}, Step: {j}, Loss: {cost.item():.4f}')"
   ]
  },
  {
   "cell_type": "code",
   "execution_count": 23,
   "id": "038891d6",
   "metadata": {},
   "outputs": [],
   "source": [
    "def evaluate_dnn(model, test_loader):\n",
    "    model.eval()  # 평가 모드로 전환\n",
    "    correct = 0\n",
    "    total = 0\n",
    "\n",
    "    with torch.no_grad():\n",
    "        for images, labels in test_loader:\n",
    "            outputs = model(images)\n",
    "            _, predicted = torch.max(outputs.data, 1)\n",
    "            total += labels.size(0)\n",
    "            correct += (predicted == labels).sum().item()\n",
    "\n",
    "    accuracy = 100 * correct / total\n",
    "    print(f'✅ [DNN] 테스트 정확도: {accuracy:.2f}%')"
   ]
  },
  {
   "cell_type": "code",
   "execution_count": 24,
   "id": "85d0735a",
   "metadata": {},
   "outputs": [
    {
     "name": "stdout",
     "output_type": "stream",
     "text": [
      "✅ [DNN] 테스트 정확도: 97.97%\n"
     ]
    }
   ],
   "source": [
    "test_loader = DataLoader(dataset=mnist_test, batch_size=100, shuffle=False)\n",
    "evaluate_dnn(model, test_loader)"
   ]
  },
  {
   "cell_type": "code",
   "execution_count": 25,
   "id": "7aeae960",
   "metadata": {},
   "outputs": [],
   "source": [
    "import matplotlib.pyplot as plt\n",
    "\n",
    "def visualize_dnn_predictions(model, test_loader):\n",
    "    model.eval()\n",
    "    images, labels = next(iter(test_loader))\n",
    "    outputs = model(images)\n",
    "    _, predicted = torch.max(outputs, 1)\n",
    "\n",
    "    plt.figure(figsize=(10, 3))\n",
    "    for i in range(5):\n",
    "        img = images[i].reshape(28, 28)  # DNN에서는 Flatten된 이미지라서 다시 2D로\n",
    "        plt.subplot(1, 5, i + 1)\n",
    "        plt.imshow(img, cmap='gray')\n",
    "        plt.title(f'Pred: {predicted[i].item()}\\nLabel: {labels[i].item()}')\n",
    "        plt.axis('off')\n",
    "    plt.show()"
   ]
  },
  {
   "cell_type": "code",
   "execution_count": null,
   "id": "0a972e88",
   "metadata": {},
   "outputs": [],
   "source": [
    "visualize_dnn_predictions(model, test_loader)"
   ]
  },
  {
   "cell_type": "code",
   "execution_count": null,
   "id": "8c70b9fa",
   "metadata": {},
   "outputs": [],
   "source": [
    "# CNN"
   ]
  },
  {
   "cell_type": "code",
   "execution_count": 9,
   "id": "8ba74e50",
   "metadata": {},
   "outputs": [],
   "source": [
    "import torch\n",
    "import torchvision.datasets as dsets\n",
    "import torchvision.transforms as transforms\n",
    "from torch.utils.data import DataLoader"
   ]
  },
  {
   "cell_type": "code",
   "execution_count": 10,
   "id": "ff2002a2",
   "metadata": {},
   "outputs": [],
   "source": [
    "batch_size = 100\n",
    "learning_rate = 0.01\n",
    "epoch = 10"
   ]
  },
  {
   "cell_type": "code",
   "execution_count": 11,
   "id": "38a1f700",
   "metadata": {},
   "outputs": [],
   "source": [
    "train = dsets.MNIST(root='MNIST_data/', train=True, transform=transforms.ToTensor(), download=True)\n",
    "test = dsets.MNIST(root='MNIST_data/', train=False, transform=transforms.ToTensor(), download=True)\n",
    "train_loader = DataLoader(dataset=train, batch_size=batch_size, shuffle=True)"
   ]
  },
  {
   "cell_type": "code",
   "execution_count": 12,
   "id": "ac92abe6",
   "metadata": {},
   "outputs": [],
   "source": [
    "class CNN(torch.nn.Module):\n",
    "    def __init__(self):\n",
    "        super(CNN, self).__init__()\n",
    "        self.layer = torch.nn.Sequential(\n",
    "            torch.nn.Conv2d(1, 32, kernel_size=3, padding=1),\n",
    "            torch.nn.ReLU(),\n",
    "            torch.nn.MaxPool2d(2),\n",
    "            torch.nn.Conv2d(32, 64, kernel_size=3, padding=1),\n",
    "            torch.nn.ReLU(),\n",
    "            torch.nn.MaxPool2d(2)\n",
    "        )\n",
    "        self.fc_layer = torch.nn.Sequential(\n",
    "            torch.nn.Flatten(),\n",
    "            torch.nn.Linear(64*7*7, 100),\n",
    "            torch.nn.ReLU(),\n",
    "            torch.nn.Linear(100, 10)\n",
    "        )\n",
    "\n",
    "    def forward(self, x):\n",
    "        x = self.layer(x)\n",
    "        x = self.fc_layer(x)\n",
    "        return x"
   ]
  },
  {
   "cell_type": "code",
   "execution_count": 13,
   "id": "090cccdc",
   "metadata": {},
   "outputs": [],
   "source": [
    "model = CNN()\n",
    "loss = torch.nn.CrossEntropyLoss()\n",
    "optimizer = torch.optim.Adam(model.parameters(), lr=learning_rate)"
   ]
  },
  {
   "cell_type": "code",
   "execution_count": 17,
   "id": "2b8080a4",
   "metadata": {},
   "outputs": [
    {
     "name": "stdout",
     "output_type": "stream",
     "text": [
      "Epoch: 1, Step: 0, Loss: 0.0489\n",
      "Epoch: 1, Step: 100, Loss: 0.0875\n",
      "Epoch: 1, Step: 200, Loss: 0.1000\n",
      "Epoch: 1, Step: 300, Loss: 0.0841\n",
      "Epoch: 1, Step: 400, Loss: 0.0542\n",
      "Epoch: 1, Step: 500, Loss: 0.0389\n",
      "Epoch: 2, Step: 0, Loss: 0.0123\n",
      "Epoch: 2, Step: 100, Loss: 0.0176\n",
      "Epoch: 2, Step: 200, Loss: 0.0588\n",
      "Epoch: 2, Step: 300, Loss: 0.0797\n",
      "Epoch: 2, Step: 400, Loss: 0.1218\n",
      "Epoch: 2, Step: 500, Loss: 0.0692\n",
      "Epoch: 3, Step: 0, Loss: 0.0278\n",
      "Epoch: 3, Step: 100, Loss: 0.1118\n",
      "Epoch: 3, Step: 200, Loss: 0.0416\n",
      "Epoch: 3, Step: 300, Loss: 0.0250\n",
      "Epoch: 3, Step: 400, Loss: 0.0425\n",
      "Epoch: 3, Step: 500, Loss: 0.0228\n",
      "Epoch: 4, Step: 0, Loss: 0.0640\n",
      "Epoch: 4, Step: 100, Loss: 0.0352\n",
      "Epoch: 4, Step: 200, Loss: 0.0823\n",
      "Epoch: 4, Step: 300, Loss: 0.0067\n",
      "Epoch: 4, Step: 400, Loss: 0.0466\n",
      "Epoch: 4, Step: 500, Loss: 0.0095\n",
      "Epoch: 5, Step: 0, Loss: 0.0406\n",
      "Epoch: 5, Step: 100, Loss: 0.0083\n",
      "Epoch: 5, Step: 200, Loss: 0.0662\n",
      "Epoch: 5, Step: 300, Loss: 0.0712\n",
      "Epoch: 5, Step: 400, Loss: 0.1541\n",
      "Epoch: 5, Step: 500, Loss: 0.0410\n",
      "Epoch: 6, Step: 0, Loss: 0.0032\n",
      "Epoch: 6, Step: 100, Loss: 0.0189\n",
      "Epoch: 6, Step: 200, Loss: 0.0802\n",
      "Epoch: 6, Step: 300, Loss: 0.0186\n",
      "Epoch: 6, Step: 400, Loss: 0.0309\n",
      "Epoch: 6, Step: 500, Loss: 0.0641\n",
      "Epoch: 7, Step: 0, Loss: 0.1218\n",
      "Epoch: 7, Step: 100, Loss: 0.1077\n",
      "Epoch: 7, Step: 200, Loss: 0.1087\n",
      "Epoch: 7, Step: 300, Loss: 0.0625\n",
      "Epoch: 7, Step: 400, Loss: 0.1474\n",
      "Epoch: 7, Step: 500, Loss: 0.1441\n",
      "Epoch: 8, Step: 0, Loss: 0.0667\n",
      "Epoch: 8, Step: 100, Loss: 0.0421\n",
      "Epoch: 8, Step: 200, Loss: 0.0255\n",
      "Epoch: 8, Step: 300, Loss: 0.0285\n",
      "Epoch: 8, Step: 400, Loss: 0.0159\n",
      "Epoch: 8, Step: 500, Loss: 0.0153\n",
      "Epoch: 9, Step: 0, Loss: 0.0439\n",
      "Epoch: 9, Step: 100, Loss: 0.0387\n",
      "Epoch: 9, Step: 200, Loss: 0.0266\n",
      "Epoch: 9, Step: 300, Loss: 0.0968\n",
      "Epoch: 9, Step: 400, Loss: 0.0790\n",
      "Epoch: 9, Step: 500, Loss: 0.0143\n",
      "Epoch: 10, Step: 0, Loss: 0.0757\n",
      "Epoch: 10, Step: 100, Loss: 0.0899\n",
      "Epoch: 10, Step: 200, Loss: 0.0892\n",
      "Epoch: 10, Step: 300, Loss: 0.0198\n",
      "Epoch: 10, Step: 400, Loss: 0.1260\n",
      "Epoch: 10, Step: 500, Loss: 0.0946\n"
     ]
    }
   ],
   "source": [
    "for i in range(epoch):\n",
    "    for j, [image, label] in enumerate(train_loader):\n",
    "        output = model(image)\n",
    "        cost = loss(output, label)\n",
    "\n",
    "        optimizer.zero_grad()\n",
    "        cost.backward()\n",
    "        optimizer.step()\n",
    "\n",
    "        if j % 100 == 0:\n",
    "            print(f'Epoch: {i+1}, Step: {j}, Loss: {cost.item():.4f}')"
   ]
  },
  {
   "cell_type": "code",
   "execution_count": 19,
   "id": "b57f7e24",
   "metadata": {},
   "outputs": [],
   "source": [
    "# 정확도 측정 함수\n",
    "def evaluate(model, test_loader):\n",
    "    model.eval()  # 평가 모드\n",
    "    correct = 0\n",
    "    total = 0\n",
    "\n",
    "    with torch.no_grad():\n",
    "        for images, labels in test_loader:\n",
    "            outputs = model(images)\n",
    "            _, predicted = torch.max(outputs.data, 1)\n",
    "            total += labels.size(0)\n",
    "            correct += (predicted == labels).sum().item()\n",
    "\n",
    "    accuracy = 100 * correct / total\n",
    "    print(f'✅ 테스트 정확도: {accuracy:.2f}%')"
   ]
  },
  {
   "cell_type": "code",
   "execution_count": 20,
   "id": "5f0301ca",
   "metadata": {},
   "outputs": [
    {
     "name": "stdout",
     "output_type": "stream",
     "text": [
      "✅ 테스트 정확도: 97.97%\n"
     ]
    }
   ],
   "source": [
    "# 테스트셋 로더 생성\n",
    "test_loader = DataLoader(dataset=test, batch_size=100, shuffle=False)\n",
    "\n",
    "# 평가 실행\n",
    "evaluate(model, test_loader)"
   ]
  },
  {
   "cell_type": "code",
   "execution_count": 21,
   "id": "33734fce",
   "metadata": {},
   "outputs": [],
   "source": [
    "import matplotlib.pyplot as plt\n",
    "\n",
    "def visualize_predictions(model, test_loader):\n",
    "    model.eval()\n",
    "    images, labels = next(iter(test_loader))  # 배치 하나 가져오기\n",
    "    outputs = model(images)\n",
    "    _, predicted = torch.max(outputs, 1)\n",
    "\n",
    "    plt.figure(figsize=(10, 3))\n",
    "    for i in range(5):\n",
    "        img = images[i].squeeze()  # 1x28x28 → 28x28\n",
    "        plt.subplot(1, 5, i + 1)\n",
    "        plt.imshow(img, cmap='gray')\n",
    "        plt.title(f'Pred: {predicted[i].item()}\\nLabel: {labels[i].item()}')\n",
    "        plt.axis('off')\n",
    "    plt.show()"
   ]
  },
  {
   "cell_type": "code",
   "execution_count": 22,
   "id": "07b0d67e",
   "metadata": {},
   "outputs": [
    {
     "data": {
      "image/png": "[encoded data removed]",
      "text/plain": [
       "<Figure size 1000x300 with 5 Axes>"
      ]
     },
     "metadata": {},
     "output_type": "display_data"
    }
   ],
   "source": [
    "visualize_predictions(model, test_loader)"
   ]
  }
 ],
 "metadata": {
  "kernelspec": {
   "display_name": "Python (tfenv)",
   "language": "python",
   "name": "tfenv"
  },
  "language_info": {
   "codemirror_mode": {
    "name": "ipython",
    "version": 3
   },
   "file_extension": ".py",
   "mimetype": "text/x-python",
   "name": "python",
   "nbconvert_exporter": "python",
   "pygments_lexer": "ipython3",
   "version": "3.12.2"
  }
 },
 "nbformat": 4,
 "nbformat_minor": 5
}
