{
 "cells": [
  {
   "cell_type": "code",
   "execution_count": null,
   "id": "e28d9996",
   "metadata": {},
   "outputs": [
    {
     "ename": "NameError",
     "evalue": "name 'mse' is not defined",
     "output_type": "error",
     "traceback": [
      "\u001b[0;31m---------------------------------------------------------------------------\u001b[0m",
      "\u001b[0;31mNameError\u001b[0m                                 Traceback (most recent call last)",
      "Cell \u001b[0;32mIn[1], line 7\u001b[0m\n\u001b[1;32m      4\u001b[0m ypred \u001b[38;5;241m=\u001b[39m np\u001b[38;5;241m.\u001b[39marray([\u001b[38;5;241m0.7\u001b[39m, \u001b[38;5;241m1.34\u001b[39m, \u001b[38;5;241m1.89\u001b[39m, \u001b[38;5;241m2.53\u001b[39m, \u001b[38;5;241m3.2\u001b[39m])\n\u001b[1;32m      5\u001b[0m mes \u001b[38;5;241m=\u001b[39m (np\u001b[38;5;241m.\u001b[39msquare(ypred\u001b[38;5;241m-\u001b[39my))\u001b[38;5;241m.\u001b[39mmean()\n\u001b[0;32m----> 7\u001b[0m \u001b[38;5;28mprint\u001b[39m(mse)\n",
      "\u001b[0;31mNameError\u001b[0m: name 'mse' is not defined"
     ]
    }
   ],
   "source": [
    "import numpy as np\n",
    "\n",
    "y = np.array([1, 1, 2, 2, 4])\n",
    "ypred = np.array([0.7, 1.34, 1.89, 2.53, 3.2])\n",
    "mse = (np.square(ypred-y)).mean()\n",
    "\n",
    "print(mse)"
   ]
  }
 ],
 "metadata": {
  "kernelspec": {
   "display_name": "Python (tfenv)",
   "language": "python",
   "name": "tfenv"
  },
  "language_info": {
   "codemirror_mode": {
    "name": "ipython",
    "version": 3
   },
   "file_extension": ".py",
   "mimetype": "text/x-python",
   "name": "python",
   "nbconvert_exporter": "python",
   "pygments_lexer": "ipython3",
   "version": "3.12.2"
  }
 },
 "nbformat": 4,
 "nbformat_minor": 5
}
